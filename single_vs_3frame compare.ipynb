{
 "cells": [
  {
   "cell_type": "code",
   "execution_count": 1,
   "id": "35b37971",
   "metadata": {},
   "outputs": [
    {
     "name": "stderr",
     "output_type": "stream",
     "text": [
      "C:\\Users\\Jens\\miniconda3\\envs\\tensorflow\\lib\\site-packages\\requests\\__init__.py:109: RequestsDependencyWarning: urllib3 (1.26.9) or chardet (5.0.0)/charset_normalizer (2.0.12) doesn't match a supported version!\n",
      "  warnings.warn(\n"
     ]
    },
    {
     "name": "stdout",
     "output_type": "stream",
     "text": [
      "You have GPU access\n",
      "Tue Oct 25 12:09:06 2022       \n",
      "+-----------------------------------------------------------------------------+\n",
      "| NVIDIA-SMI 512.72       Driver Version: 512.72       CUDA Version: 11.6     |\n",
      "|-------------------------------+----------------------+----------------------+\n",
      "| GPU  Name            TCC/WDDM | Bus-Id        Disp.A | Volatile Uncorr. ECC |\n",
      "| Fan  Temp  Perf  Pwr:Usage/Cap|         Memory-Usage | GPU-Util  Compute M. |\n",
      "|                               |                      |               MIG M. |\n",
      "|===============================+======================+======================|\n",
      "|   0  NVIDIA GeForce ... WDDM  | 00000000:01:00.0 Off |                  N/A |\n",
      "| N/A   51C    P0    15W /  N/A |    168MiB /  4096MiB |      3%      Default |\n",
      "|                               |                      |                  N/A |\n",
      "+-------------------------------+----------------------+----------------------+\n",
      "                                                                               \n",
      "+-----------------------------------------------------------------------------+\n",
      "| Processes:                                                                  |\n",
      "|  GPU   GI   CI        PID   Type   Process name                  GPU Memory |\n",
      "|        ID   ID                                                   Usage      |\n",
      "|=============================================================================|\n",
      "|    0   N/A  N/A     14060      C   ...nvs\\tensorflow\\python.exe    N/A      |\n",
      "+-----------------------------------------------------------------------------+\n",
      "TensorFlow 2.6.0; Keras 2.6.0\n"
     ]
    },
    {
     "data": {
      "text/plain": [
       "'/device:GPU:0'"
      ]
     },
     "execution_count": 1,
     "metadata": {},
     "output_type": "execute_result"
    }
   ],
   "source": [
    "import tensorflow as tf\n",
    "from tensorflow import keras\n",
    "\n",
    "\n",
    "if tf.test.gpu_device_name()=='':\n",
    "    print('You do not have GPU access.')\n",
    "    !nvidia-smi\n",
    "\n",
    "else:\n",
    "  print('You have GPU access')\n",
    "  !nvidia-smi\n",
    "\n",
    "\n",
    "# print the tensorflow version\n",
    "print('TensorFlow {}; Keras {}'.format(tf.__version__, keras.__version__))\n",
    "tf.test.gpu_device_name()\n"
   ]
  },
  {
   "cell_type": "code",
   "execution_count": 3,
   "id": "5ac04cb0",
   "metadata": {},
   "outputs": [],
   "source": [
    "from tensorflow.keras import layers\n",
    "import os\n",
    "import tifffile as tiff\n",
    "import numpy as np\n",
    "from matplotlib import pyplot as plt\n",
    "from keras.models import load_model\n",
    "from preprocessing import get_model_memory_usage, unpatch_stack\n",
    "\n",
    "#load pretrained models\n",
    "model_single_name = \"bactunet_V4_single_frame\"\n",
    "model_3frame_name = \"bactunet_V4_3frame\"\n",
    "\n",
    "model_single = load_model(\"models/\"+model_single_name+\".hdf5\", compile=False)\n",
    "model_3frame = load_model(\"models/\"+model_3frame_name+\".hdf5\", compile=False)\n"
   ]
  },
  {
   "cell_type": "code",
   "execution_count": 4,
   "id": "04714372",
   "metadata": {
    "scrolled": true
   },
   "outputs": [
    {
     "name": "stdout",
     "output_type": "stream",
     "text": [
      "conv2d/kernel:0 (3, 3, 1, 64) conv2d/kernel:0 (3, 3, 3, 64)\n",
      "conv2d/bias:0 (64,) conv2d/bias:0 (64,)\n",
      "batch_normalization/gamma:0 (288,) batch_normalization/gamma:0 (288,)\n",
      "batch_normalization/beta:0 (288,) batch_normalization/beta:0 (288,)\n",
      "batch_normalization/moving_mean:0 (288,) batch_normalization/moving_mean:0 (288,)\n",
      "batch_normalization/moving_variance:0 (288,) batch_normalization/moving_variance:0 (288,)\n",
      "conv2d_1/kernel:0 (3, 3, 64, 64) conv2d_1/kernel:0 (3, 3, 64, 64)\n",
      "conv2d_1/bias:0 (64,) conv2d_1/bias:0 (64,)\n",
      "batch_normalization_1/gamma:0 (288,) batch_normalization_1/gamma:0 (288,)\n",
      "batch_normalization_1/beta:0 (288,) batch_normalization_1/beta:0 (288,)\n",
      "batch_normalization_1/moving_mean:0 (288,) batch_normalization_1/moving_mean:0 (288,)\n",
      "batch_normalization_1/moving_variance:0 (288,) batch_normalization_1/moving_variance:0 (288,)\n",
      "conv2d_2/kernel:0 (3, 3, 64, 128) conv2d_2/kernel:0 (3, 3, 64, 128)\n",
      "conv2d_2/bias:0 (128,) conv2d_2/bias:0 (128,)\n",
      "batch_normalization_2/gamma:0 (144,) batch_normalization_2/gamma:0 (144,)\n",
      "batch_normalization_2/beta:0 (144,) batch_normalization_2/beta:0 (144,)\n",
      "batch_normalization_2/moving_mean:0 (144,) batch_normalization_2/moving_mean:0 (144,)\n",
      "batch_normalization_2/moving_variance:0 (144,) batch_normalization_2/moving_variance:0 (144,)\n",
      "conv2d_3/kernel:0 (3, 3, 128, 128) conv2d_3/kernel:0 (3, 3, 128, 128)\n",
      "conv2d_3/bias:0 (128,) conv2d_3/bias:0 (128,)\n",
      "batch_normalization_3/gamma:0 (144,) batch_normalization_3/gamma:0 (144,)\n",
      "batch_normalization_3/beta:0 (144,) batch_normalization_3/beta:0 (144,)\n",
      "batch_normalization_3/moving_mean:0 (144,) batch_normalization_3/moving_mean:0 (144,)\n",
      "batch_normalization_3/moving_variance:0 (144,) batch_normalization_3/moving_variance:0 (144,)\n",
      "conv2d_4/kernel:0 (3, 3, 128, 256) conv2d_4/kernel:0 (3, 3, 128, 256)\n",
      "conv2d_4/bias:0 (256,) conv2d_4/bias:0 (256,)\n",
      "batch_normalization_4/gamma:0 (72,) batch_normalization_4/gamma:0 (72,)\n",
      "batch_normalization_4/beta:0 (72,) batch_normalization_4/beta:0 (72,)\n",
      "batch_normalization_4/moving_mean:0 (72,) batch_normalization_4/moving_mean:0 (72,)\n",
      "batch_normalization_4/moving_variance:0 (72,) batch_normalization_4/moving_variance:0 (72,)\n",
      "conv2d_5/kernel:0 (3, 3, 256, 256) conv2d_5/kernel:0 (3, 3, 256, 256)\n",
      "conv2d_5/bias:0 (256,) conv2d_5/bias:0 (256,)\n",
      "batch_normalization_5/gamma:0 (72,) batch_normalization_5/gamma:0 (72,)\n",
      "batch_normalization_5/beta:0 (72,) batch_normalization_5/beta:0 (72,)\n",
      "batch_normalization_5/moving_mean:0 (72,) batch_normalization_5/moving_mean:0 (72,)\n",
      "batch_normalization_5/moving_variance:0 (72,) batch_normalization_5/moving_variance:0 (72,)\n",
      "conv2d_6/kernel:0 (3, 3, 256, 512) conv2d_6/kernel:0 (3, 3, 256, 512)\n",
      "conv2d_6/bias:0 (512,) conv2d_6/bias:0 (512,)\n",
      "batch_normalization_6/gamma:0 (36,) batch_normalization_6/gamma:0 (36,)\n",
      "batch_normalization_6/beta:0 (36,) batch_normalization_6/beta:0 (36,)\n",
      "batch_normalization_6/moving_mean:0 (36,) batch_normalization_6/moving_mean:0 (36,)\n",
      "batch_normalization_6/moving_variance:0 (36,) batch_normalization_6/moving_variance:0 (36,)\n",
      "conv2d_7/kernel:0 (3, 3, 512, 512) conv2d_7/kernel:0 (3, 3, 512, 512)\n",
      "conv2d_7/bias:0 (512,) conv2d_7/bias:0 (512,)\n",
      "batch_normalization_7/gamma:0 (36,) batch_normalization_7/gamma:0 (36,)\n",
      "batch_normalization_7/beta:0 (36,) batch_normalization_7/beta:0 (36,)\n",
      "batch_normalization_7/moving_mean:0 (36,) batch_normalization_7/moving_mean:0 (36,)\n",
      "batch_normalization_7/moving_variance:0 (36,) batch_normalization_7/moving_variance:0 (36,)\n",
      "conv2d_8/kernel:0 (3, 3, 512, 1024) conv2d_8/kernel:0 (3, 3, 512, 1024)\n",
      "conv2d_8/bias:0 (1024,) conv2d_8/bias:0 (1024,)\n",
      "batch_normalization_8/gamma:0 (18,) batch_normalization_8/gamma:0 (18,)\n",
      "batch_normalization_8/beta:0 (18,) batch_normalization_8/beta:0 (18,)\n",
      "batch_normalization_8/moving_mean:0 (18,) batch_normalization_8/moving_mean:0 (18,)\n",
      "batch_normalization_8/moving_variance:0 (18,) batch_normalization_8/moving_variance:0 (18,)\n",
      "conv2d_9/kernel:0 (3, 3, 1024, 1024) conv2d_9/kernel:0 (3, 3, 1024, 1024)\n",
      "conv2d_9/bias:0 (1024,) conv2d_9/bias:0 (1024,)\n",
      "batch_normalization_9/gamma:0 (18,) batch_normalization_9/gamma:0 (18,)\n",
      "batch_normalization_9/beta:0 (18,) batch_normalization_9/beta:0 (18,)\n",
      "batch_normalization_9/moving_mean:0 (18,) batch_normalization_9/moving_mean:0 (18,)\n",
      "batch_normalization_9/moving_variance:0 (18,) batch_normalization_9/moving_variance:0 (18,)\n",
      "conv2d_transpose/kernel:0 (2, 2, 512, 1024) conv2d_transpose/kernel:0 (2, 2, 512, 1024)\n",
      "conv2d_transpose/bias:0 (512,) conv2d_transpose/bias:0 (512,)\n",
      "conv2d_10/kernel:0 (3, 3, 1024, 512) conv2d_10/kernel:0 (3, 3, 1024, 512)\n",
      "conv2d_10/bias:0 (512,) conv2d_10/bias:0 (512,)\n",
      "batch_normalization_10/gamma:0 (36,) batch_normalization_10/gamma:0 (36,)\n",
      "batch_normalization_10/beta:0 (36,) batch_normalization_10/beta:0 (36,)\n",
      "batch_normalization_10/moving_mean:0 (36,) batch_normalization_10/moving_mean:0 (36,)\n",
      "batch_normalization_10/moving_variance:0 (36,) batch_normalization_10/moving_variance:0 (36,)\n",
      "conv2d_11/kernel:0 (3, 3, 512, 512) conv2d_11/kernel:0 (3, 3, 512, 512)\n",
      "conv2d_11/bias:0 (512,) conv2d_11/bias:0 (512,)\n",
      "batch_normalization_11/gamma:0 (36,) batch_normalization_11/gamma:0 (36,)\n",
      "batch_normalization_11/beta:0 (36,) batch_normalization_11/beta:0 (36,)\n",
      "batch_normalization_11/moving_mean:0 (36,) batch_normalization_11/moving_mean:0 (36,)\n",
      "batch_normalization_11/moving_variance:0 (36,) batch_normalization_11/moving_variance:0 (36,)\n",
      "conv2d_transpose_1/kernel:0 (2, 2, 256, 512) conv2d_transpose_1/kernel:0 (2, 2, 256, 512)\n",
      "conv2d_transpose_1/bias:0 (256,) conv2d_transpose_1/bias:0 (256,)\n",
      "conv2d_12/kernel:0 (3, 3, 512, 256) conv2d_12/kernel:0 (3, 3, 512, 256)\n",
      "conv2d_12/bias:0 (256,) conv2d_12/bias:0 (256,)\n",
      "batch_normalization_12/gamma:0 (72,) batch_normalization_12/gamma:0 (72,)\n",
      "batch_normalization_12/beta:0 (72,) batch_normalization_12/beta:0 (72,)\n",
      "batch_normalization_12/moving_mean:0 (72,) batch_normalization_12/moving_mean:0 (72,)\n",
      "batch_normalization_12/moving_variance:0 (72,) batch_normalization_12/moving_variance:0 (72,)\n",
      "conv2d_13/kernel:0 (3, 3, 256, 256) conv2d_13/kernel:0 (3, 3, 256, 256)\n",
      "conv2d_13/bias:0 (256,) conv2d_13/bias:0 (256,)\n",
      "batch_normalization_13/gamma:0 (72,) batch_normalization_13/gamma:0 (72,)\n",
      "batch_normalization_13/beta:0 (72,) batch_normalization_13/beta:0 (72,)\n",
      "batch_normalization_13/moving_mean:0 (72,) batch_normalization_13/moving_mean:0 (72,)\n",
      "batch_normalization_13/moving_variance:0 (72,) batch_normalization_13/moving_variance:0 (72,)\n",
      "conv2d_transpose_2/kernel:0 (2, 2, 128, 256) conv2d_transpose_2/kernel:0 (2, 2, 128, 256)\n",
      "conv2d_transpose_2/bias:0 (128,) conv2d_transpose_2/bias:0 (128,)\n",
      "conv2d_14/kernel:0 (3, 3, 256, 128) conv2d_14/kernel:0 (3, 3, 256, 128)\n",
      "conv2d_14/bias:0 (128,) conv2d_14/bias:0 (128,)\n",
      "batch_normalization_14/gamma:0 (144,) batch_normalization_14/gamma:0 (144,)\n",
      "batch_normalization_14/beta:0 (144,) batch_normalization_14/beta:0 (144,)\n",
      "batch_normalization_14/moving_mean:0 (144,) batch_normalization_14/moving_mean:0 (144,)\n",
      "batch_normalization_14/moving_variance:0 (144,) batch_normalization_14/moving_variance:0 (144,)\n",
      "conv2d_15/kernel:0 (3, 3, 128, 128) conv2d_15/kernel:0 (3, 3, 128, 128)\n",
      "conv2d_15/bias:0 (128,) conv2d_15/bias:0 (128,)\n",
      "batch_normalization_15/gamma:0 (144,) batch_normalization_15/gamma:0 (144,)\n",
      "batch_normalization_15/beta:0 (144,) batch_normalization_15/beta:0 (144,)\n",
      "batch_normalization_15/moving_mean:0 (144,) batch_normalization_15/moving_mean:0 (144,)\n",
      "batch_normalization_15/moving_variance:0 (144,) batch_normalization_15/moving_variance:0 (144,)\n",
      "conv2d_transpose_3/kernel:0 (2, 2, 64, 128) conv2d_transpose_3/kernel:0 (2, 2, 64, 128)\n",
      "conv2d_transpose_3/bias:0 (64,) conv2d_transpose_3/bias:0 (64,)\n",
      "conv2d_16/kernel:0 (3, 3, 128, 64) conv2d_16/kernel:0 (3, 3, 128, 64)\n",
      "conv2d_16/bias:0 (64,) conv2d_16/bias:0 (64,)\n",
      "batch_normalization_16/gamma:0 (288,) batch_normalization_16/gamma:0 (288,)\n",
      "batch_normalization_16/beta:0 (288,) batch_normalization_16/beta:0 (288,)\n",
      "batch_normalization_16/moving_mean:0 (288,) batch_normalization_16/moving_mean:0 (288,)\n",
      "batch_normalization_16/moving_variance:0 (288,) batch_normalization_16/moving_variance:0 (288,)\n",
      "conv2d_17/kernel:0 (3, 3, 64, 64) conv2d_17/kernel:0 (3, 3, 64, 64)\n",
      "conv2d_17/bias:0 (64,) conv2d_17/bias:0 (64,)\n",
      "batch_normalization_17/gamma:0 (288,) batch_normalization_17/gamma:0 (288,)\n",
      "batch_normalization_17/beta:0 (288,) batch_normalization_17/beta:0 (288,)\n",
      "batch_normalization_17/moving_mean:0 (288,) batch_normalization_17/moving_mean:0 (288,)\n",
      "batch_normalization_17/moving_variance:0 (288,) batch_normalization_17/moving_variance:0 (288,)\n",
      "conv2d_18/kernel:0 (1, 1, 64, 1) conv2d_18/kernel:0 (1, 1, 64, 1)\n",
      "conv2d_18/bias:0 (1,) conv2d_18/bias:0 (1,)\n"
     ]
    }
   ],
   "source": [
    "#models are identical except for the input shape (1, 288, 288) vs (3, 288, 288)\n",
    "for l1, l2 in zip(model_single.weights, model_3frame.weights):\n",
    "    print(l1.name, l1.shape, l2.name, l2.shape)"
   ]
  },
  {
   "cell_type": "code",
   "execution_count": 5,
   "id": "7566fae1",
   "metadata": {
    "scrolled": true
   },
   "outputs": [
    {
     "name": "stdout",
     "output_type": "stream",
     "text": [
      "BT0403_229.tif (13, 2304, 2304) (11, 2304, 2304)\n",
      "BT0403_229.tif (704, 3, 288, 288) (704, 1, 288, 288)\n",
      "BT0407_110.tif (7, 2304, 2304) (5, 2304, 2304)\n",
      "BT0407_110.tif (320, 3, 288, 288) (320, 1, 288, 288)\n",
      "BT0398_210.tif (13, 2304, 2304) (11, 2304, 2304)\n",
      "BT0398_210.tif (704, 3, 288, 288) (704, 1, 288, 288)\n",
      "BT402_169.tif (5, 2304, 2304) (3, 2304, 2304)\n",
      "BT402_169.tif (192, 3, 288, 288) (192, 1, 288, 288)\n",
      "BT403_002.tif (13, 2304, 2304) (11, 2304, 2304)\n",
      "BT403_002.tif (704, 3, 288, 288) (704, 1, 288, 288)\n",
      "BT404_199.tif (5, 2304, 2304) (3, 2304, 2304)\n",
      "BT404_199.tif (192, 3, 288, 288) (192, 1, 288, 288)\n",
      "dict_keys(['BT0403_229.tif', 'BT0407_110.tif', 'BT0398_210.tif', 'BT402_169.tif', 'BT403_002.tif', 'BT404_199.tif'])\n"
     ]
    }
   ],
   "source": [
    "from preprocessing import patch_image, patch_stack, normalizePercentile, normalizeMinMax\n",
    "from patchify import patchify\n",
    "\n",
    "source_path = r\"Bactnet/Training data/stacks/\"\n",
    "SIZE = 288\n",
    "\n",
    "def prepare_data(source_path, PATCH_SIZE, validation=True):\n",
    "    pred_dict = {}\n",
    "    if validation:\n",
    "        prefix = \"validation\"\n",
    "    else:\n",
    "        prefix = \"training\"\n",
    "    stacks = os.listdir(os.path.join(source_path, prefix+\"_source\"))\n",
    "    image_dataset = None\n",
    "    mask_dataset = None\n",
    "    for stack in stacks:\n",
    "        if (stack.split(\".\")[-1]==\"tif\"):\n",
    "            pred_dict[stack]={}\n",
    "            img = tiff.imread(os.path.join(source_path, prefix+\"_source\",stack))\n",
    "            pred_dict[stack][\"image\"]=img\n",
    "            mask = tiff.imread(os.path.join(source_path, prefix+\"_target\", stack))\n",
    "            pred_dict[stack][\"y_true\"]=mask\n",
    "            print(stack, img.shape, mask.shape)\n",
    "            \n",
    "            img_patch = patch_stack(img, PATCH_SIZE)\n",
    "            if len(mask.shape)==2:\n",
    "                mask_patch = patch_image(mask, PATCH_SIZE)\n",
    "            else:    \n",
    "                mask_patch = patch_stack(mask, SIZE=PATCH_SIZE, DEPTH=1)\n",
    "            \n",
    "            print(stack, img_patch.shape, mask_patch.shape)\n",
    "            mask_patch = normalizeMinMax(mask_patch)\n",
    "            img_patch = normalizePercentile(img_patch, 0.1, 99.9, clip=True)\n",
    "            pred_dict[stack][\"image_patch\"] = img_patch\n",
    "            pred_dict[stack][\"mask_patch\"] = mask_patch\n",
    "\n",
    "\n",
    "            #print(image_dataset.shape, mask_dataset.shape)\n",
    "\n",
    "    return pred_dict\n",
    "\n",
    "#pred_dict[file]=[image_stack, mask, patch, y_true, y_pred]\n",
    "image_dict = prepare_data(source_path, SIZE, validation=True)\n",
    "image_dict.update(prepare_data(source_path, SIZE, validation=False))\n",
    "print(image_dict.keys())\n",
    "\n"
   ]
  },
  {
   "cell_type": "code",
   "execution_count": 6,
   "id": "bed33048",
   "metadata": {},
   "outputs": [
    {
     "name": "stdout",
     "output_type": "stream",
     "text": [
      "BT0403_229.tif (11, 1, 2304, 2304) (11, 1, 2304, 2304)\n",
      "BT0407_110.tif (5, 1, 2304, 2304) (5, 1, 2304, 2304)\n",
      "BT0398_210.tif (11, 1, 2304, 2304) (11, 1, 2304, 2304)\n",
      "BT402_169.tif (3, 1, 2304, 2304) (3, 1, 2304, 2304)\n",
      "BT403_002.tif (11, 1, 2304, 2304) (11, 1, 2304, 2304)\n",
      "BT404_199.tif (3, 1, 2304, 2304) (3, 1, 2304, 2304)\n"
     ]
    }
   ],
   "source": [
    "keras.backend.clear_session()\n",
    "stride = 2\n",
    "\n",
    "# #IOU\n",
    "for stack in image_dict.keys():\n",
    "    y_pred1 = None\n",
    "    y_pred2 = None\n",
    "    img_stack = image_dict[stack]\n",
    "    for i in range(0, len(img_stack[\"image_patch\"]), stride):\n",
    "        pred_si = model_single.predict(np.expand_dims(img_stack[\"image_patch\"][i:i+stride,1,:,:], axis=1))\n",
    "        pred_3f = model_3frame.predict(img_stack[\"image_patch\"][i:i+stride])\n",
    "        if y_pred1 is not None:\n",
    "            y_pred1 = np.concatenate((y_pred1, pred_si))\n",
    "            y_pred2 = np.concatenate((y_pred2, pred_3f))\n",
    "\n",
    "        if y_pred1 is None:\n",
    "            y_pred1 = pred_si\n",
    "            y_pred2 = pred_3f\n",
    "    \n",
    "    image_dict[stack][\"y_pred_single\"] = unpatch_stack(y_pred1, 8, 8, 1)\n",
    "    image_dict[stack][\"y_pred_3frame\"] = unpatch_stack(y_pred2, 8, 8, 1)\n",
    "    print(stack, image_dict[stack][\"y_pred_single\"].shape, image_dict[stack][\"y_pred_3frame\"].shape)\n",
    "    "
   ]
  },
  {
   "cell_type": "code",
   "execution_count": 20,
   "id": "e6c8ddc7",
   "metadata": {
    "scrolled": true
   },
   "outputs": [
    {
     "name": "stdout",
     "output_type": "stream",
     "text": [
      "(11, 1, 2304, 2304) 1.0\n",
      "(5, 1, 2304, 2304) 1.0\n",
      "(11, 1, 2304, 2304) 1.0\n",
      "(3, 1, 2304, 2304) 1.0\n",
      "(11, 1, 2304, 2304) 1.0\n",
      "(3, 1, 2304, 2304) 1.0\n"
     ]
    }
   ],
   "source": [
    "threshold = 0.5\n",
    "\n",
    "for stack in image_dict.keys():\n",
    "    pred_si = (image_dict[stack][\"y_pred_single\"]>threshold)*255\n",
    "    pred_3f = (image_dict[stack][\"y_pred_3frame\"]>threshold)*255\n",
    "    saveme = np.concatenate((pred_si, pred_3f, np.expand_dims(image_dict[stack][\"y_true\"],axis=1)), axis=1)\n",
    "    saveme = saveme.astype('uint8')\n",
    "    prefix=\"V4_compare\"\n",
    "    dic = unpatch_stack(image_dict[stack][\"image_patch\"], 8, 8, 3)\n",
    "    dic = dic[:,1,:,:] * 255\n",
    "    dic = np.expand_dims(dic, axis=1).astype('uint8')\n",
    "    print(dic.shape, image_dict[stack][\"image_patch\"].max())\n",
    "    saveme = np.concatenate((dic, saveme), axis=1)\n",
    "    tiff.imwrite(os.path.join(r\"C:\\Users\\Jens\\Documents\\Code\\BactUnet\\Bactnet\\Training data\\stacks\\predict\", prefix+stack), saveme, imagej=True,\n",
    "                      metadata={'unit': 'um', 'finterval': 15,\n",
    "                                'axes': 'TCYX'})"
   ]
  },
  {
   "cell_type": "code",
   "execution_count": 7,
   "id": "3c42f0b6",
   "metadata": {},
   "outputs": [
    {
     "data": {
      "text/html": [
       "<div>\n",
       "<style scoped>\n",
       "    .dataframe tbody tr th:only-of-type {\n",
       "        vertical-align: middle;\n",
       "    }\n",
       "\n",
       "    .dataframe tbody tr th {\n",
       "        vertical-align: top;\n",
       "    }\n",
       "\n",
       "    .dataframe thead th {\n",
       "        text-align: right;\n",
       "    }\n",
       "</style>\n",
       "<table border=\"1\" class=\"dataframe\">\n",
       "  <thead>\n",
       "    <tr style=\"text-align: right;\">\n",
       "      <th></th>\n",
       "      <th>epoch</th>\n",
       "      <th>dice_coef</th>\n",
       "      <th>iou_seg</th>\n",
       "      <th>loss</th>\n",
       "      <th>val_dice_coef</th>\n",
       "      <th>val_iou_seg</th>\n",
       "      <th>val_loss</th>\n",
       "      <th>Model</th>\n",
       "    </tr>\n",
       "  </thead>\n",
       "  <tbody>\n",
       "    <tr>\n",
       "      <th>0</th>\n",
       "      <td>0</td>\n",
       "      <td>0.405609</td>\n",
       "      <td>0.734618</td>\n",
       "      <td>1.388661</td>\n",
       "      <td>0.482242</td>\n",
       "      <td>0.674140</td>\n",
       "      <td>1.311090</td>\n",
       "      <td>single</td>\n",
       "    </tr>\n",
       "    <tr>\n",
       "      <th>1</th>\n",
       "      <td>1</td>\n",
       "      <td>0.530784</td>\n",
       "      <td>0.632071</td>\n",
       "      <td>1.169838</td>\n",
       "      <td>0.527189</td>\n",
       "      <td>0.634532</td>\n",
       "      <td>1.232484</td>\n",
       "      <td>single</td>\n",
       "    </tr>\n",
       "    <tr>\n",
       "      <th>2</th>\n",
       "      <td>2</td>\n",
       "      <td>0.562878</td>\n",
       "      <td>0.601784</td>\n",
       "      <td>1.111608</td>\n",
       "      <td>0.547631</td>\n",
       "      <td>0.614936</td>\n",
       "      <td>1.191722</td>\n",
       "      <td>single</td>\n",
       "    </tr>\n",
       "    <tr>\n",
       "      <th>3</th>\n",
       "      <td>3</td>\n",
       "      <td>0.572708</td>\n",
       "      <td>0.592058</td>\n",
       "      <td>1.088279</td>\n",
       "      <td>0.542584</td>\n",
       "      <td>0.619917</td>\n",
       "      <td>1.200951</td>\n",
       "      <td>single</td>\n",
       "    </tr>\n",
       "    <tr>\n",
       "      <th>4</th>\n",
       "      <td>4</td>\n",
       "      <td>0.585001</td>\n",
       "      <td>0.580063</td>\n",
       "      <td>1.067117</td>\n",
       "      <td>0.510874</td>\n",
       "      <td>0.649524</td>\n",
       "      <td>1.274522</td>\n",
       "      <td>single</td>\n",
       "    </tr>\n",
       "  </tbody>\n",
       "</table>\n",
       "</div>"
      ],
      "text/plain": [
       "   epoch  dice_coef   iou_seg      loss  val_dice_coef  val_iou_seg  val_loss  \\\n",
       "0      0   0.405609  0.734618  1.388661       0.482242     0.674140  1.311090   \n",
       "1      1   0.530784  0.632071  1.169838       0.527189     0.634532  1.232484   \n",
       "2      2   0.562878  0.601784  1.111608       0.547631     0.614936  1.191722   \n",
       "3      3   0.572708  0.592058  1.088279       0.542584     0.619917  1.200951   \n",
       "4      4   0.585001  0.580063  1.067117       0.510874     0.649524  1.274522   \n",
       "\n",
       "    Model  \n",
       "0  single  \n",
       "1  single  \n",
       "2  single  \n",
       "3  single  \n",
       "4  single  "
      ]
     },
     "execution_count": 7,
     "metadata": {},
     "output_type": "execute_result"
    }
   ],
   "source": [
    "#Quick look at the training\n",
    "import pandas as pd\n",
    "import seaborn as sns\n",
    "\n",
    "log_si = pd.read_csv(\"models/\"+model_single_name+\".csv\")\n",
    "log_3m = pd.read_csv(\"models/\"+model_3frame_name+\".csv\")\n",
    "\n",
    "log_si[\"Model\"] = \"single\"\n",
    "log_3m[\"Model\"] = \"3frame\"\n",
    "\n",
    "train_logs = pd.concat([log_si, log_3m], ignore_index=True)\n",
    "\n",
    "train_logs.head()\n",
    "\n"
   ]
  },
  {
   "cell_type": "code",
   "execution_count": 8,
   "id": "cc652211",
   "metadata": {},
   "outputs": [
    {
     "data": {
      "image/png": "[encoded data removed]",
      "text/plain": [
       "<Figure size 431.875x360 with 1 Axes>"
      ]
     },
     "metadata": {
      "needs_background": "light"
     },
     "output_type": "display_data"
    }
   ],
   "source": [
    "g1 = sns.relplot(data=train_logs, x='epoch', y='val_dice_coef', style='Model', hue='Model', kind='line')\n",
    "#g1.set(ylim=(0,150))\n"
   ]
  },
  {
   "cell_type": "code",
   "execution_count": 58,
   "id": "997b4301",
   "metadata": {},
   "outputs": [
    {
     "name": "stdout",
     "output_type": "stream",
     "text": [
      "BT0403_229.tif 0 0.768 0.9998950711114569\n",
      "BT0403_229.tif 1 0.785 0.9999054312063832\n",
      "BT0403_229.tif 2 0.795 0.9998653058095017\n",
      "BT0403_229.tif 3 0.787 0.9999165445919388\n",
      "BT0403_229.tif 4 0.796 0.9998888520070125\n",
      "BT0403_229.tif 5 0.791 0.9998856495023493\n",
      "BT0403_229.tif 6 0.765 0.9998977059186451\n",
      "BT0403_229.tif 7 0.78 0.9998960108480278\n",
      "BT0403_229.tif 8 0.771 0.9998762291836137\n",
      "BT0403_229.tif 9 0.756 0.9999007182011419\n",
      "BT0403_229.tif 10 0.752 0.9999095732195061\n",
      "BT0407_110.tif 0 0.739 0.9999900158503086\n",
      "BT0407_110.tif 1 0.61 0.9999917112750771\n",
      "BT0407_110.tif 2 0.673 0.9999939718352842\n",
      "BT0407_110.tif 3 0.734 0.9999826689872642\n",
      "BT0407_110.tif 4 0.754 0.9999918996551891\n",
      "BT0398_210.tif 0 0.829 0.9999299193111294\n",
      "BT0398_210.tif 1 0.87 0.999926904055167\n",
      "BT0398_210.tif 2 0.828 0.9999020393153905\n",
      "BT0398_210.tif 3 0.865 0.9998960102407306\n",
      "BT0398_210.tif 4 0.847 0.9999250213538431\n",
      "BT0398_210.tif 5 0.857 0.9999171085815414\n",
      "BT0398_210.tif 6 0.813 0.9998890366307226\n",
      "BT0398_210.tif 7 0.843 0.9999287874748849\n",
      "BT0398_210.tif 8 0.849 0.9999076876761352\n",
      "BT0398_210.tif 9 0.829 0.9999323681890857\n",
      "BT0398_210.tif 10 0.828 0.9999080651539239\n",
      "BT402_169.tif 0 0.884 0.9998040393888366\n",
      "BT402_169.tif 1 0.869 0.9996957379767046\n",
      "BT402_169.tif 2 0.874 0.9996838561262766\n",
      "BT403_002.tif 0 0.715 0.9999821038859998\n",
      "BT403_002.tif 1 0.734 0.999962323920844\n",
      "BT403_002.tif 2 0.737 0.9999843644065323\n",
      "BT403_002.tif 3 0.723 0.9999495140824627\n",
      "BT403_002.tif 4 0.728 0.9999711778428819\n",
      "BT403_002.tif 5 0.728 0.9999747570650077\n",
      "BT403_002.tif 6 0.697 0.9999572376662692\n",
      "BT403_002.tif 7 0.693 0.9999877552927277\n",
      "BT403_002.tif 8 0.762 0.9999964207778742\n",
      "BT403_002.tif 9 0.771 0.9999591214926193\n",
      "BT403_002.tif 10 0.749 0.9999536584400979\n",
      "BT404_199.tif 0 0.815 0.9999578028549383\n",
      "BT404_199.tif 1 0.817 0.9999463116681134\n",
      "BT404_199.tif 2 0.802 0.9999736266104486\n"
     ]
    }
   ],
   "source": [
    "def dice_score(mask1, mask2):\n",
    "    intersect = np.sum(mask1*mask2)\n",
    "    fsum = np.sum(mask1)\n",
    "    ssum = np.sum(mask2)\n",
    "    dice = (2 * intersect ) / (fsum + ssum)\n",
    "    dice = np.mean(dice)\n",
    "    dice = round(dice, 3) # for easy reading\n",
    "    return dice    \n",
    "\n",
    "def iou_score(mask1, mask2):\n",
    "    intersection = np.logical_and(mask1, mask1)\n",
    "    union = np.logical_or(mask1, mask2)\n",
    "    iou_score = np.sum(intersection) / np.sum(union)\n",
    "    return iou_score\n",
    "    \n",
    "\n",
    "for stack in image_dict.keys():\n",
    "    for frame in range(len(image_dict[stack]['y_pred_single'])):\n",
    "        dice_comp = dice_score(image_dict[stack]['y_pred_single'][frame], image_dict[stack]['y_pred_3frame'][frame])\n",
    "        iou_comp = iou_score(image_dict[stack]['y_pred_single'][frame], image_dict[stack]['y_pred_3frame'][frame])\n",
    "        print(stack, frame, dice_comp, iou_comp)\n"
   ]
  },
  {
   "cell_type": "code",
   "execution_count": 31,
   "id": "ebd59a0d",
   "metadata": {},
   "outputs": [
    {
     "name": "stdout",
     "output_type": "stream",
     "text": [
      "37 44 55\n"
     ]
    }
   ],
   "source": [
    "from skimage import measure\n",
    "\n",
    "threshold = 0.5\n",
    "stack = 'BT0407_110.tif'\n",
    "i = 3\n",
    "\n",
    "contours_true = measure.find_contours(image_dict[stack]['y_true'][i]>1)\n",
    "contours_single = measure.find_contours(image_dict[stack][\"y_pred_single\"][i,0,:,:]>threshold)\n",
    "contours_3frame = measure.find_contours(image_dict[stack][\"y_pred_3frame\"][i,0,:,:]>threshold)\n",
    "\n",
    "print(len(contours_true), len(contours_single), len(contours_3frame))\n"
   ]
  },
  {
   "cell_type": "code",
   "execution_count": 36,
   "id": "0cce9eae",
   "metadata": {},
   "outputs": [
    {
     "data": {
      "image/png": "[encoded data removed]",
      "text/plain": [
       "<Figure size 1080x1080 with 1 Axes>"
      ]
     },
     "metadata": {
      "needs_background": "light"
     },
     "output_type": "display_data"
    }
   ],
   "source": [
    "fig, ax = plt.subplots(figsize=(15, 15))\n",
    "for contour in contours_true:\n",
    "    ax.plot(contour[:, 1], contour[:, 0], linewidth=1, color='blue')\n",
    "    \n",
    "for contour in contours_single:\n",
    "    ax.plot(contour[:, 1], contour[:, 0], linewidth=1, color='red')\n",
    "    \n",
    "for contour in contours_3frame:\n",
    "    ax.plot(contour[:, 1], contour[:, 0], linewidth=1, color='green')\n",
    "\n",
    "plt.show()\n"
   ]
  },
  {
   "cell_type": "code",
   "execution_count": 46,
   "id": "236917c1",
   "metadata": {},
   "outputs": [
    {
     "name": "stdout",
     "output_type": "stream",
     "text": [
      "37 44 55 31 32 44\n"
     ]
    },
    {
     "data": {
      "image/png": "[encoded data removed]",
      "text/plain": [
       "<Figure size 1080x1080 with 1 Axes>"
      ]
     },
     "metadata": {
      "needs_background": "light"
     },
     "output_type": "display_data"
    }
   ],
   "source": [
    "#ANDing two masks gives a quick count of whow well they agree\n",
    "\n",
    "mask_true = image_dict[stack]['y_true'][i]>1\n",
    "mask_single = image_dict[stack][\"y_pred_single\"][i,0,:,:]>threshold\n",
    "mask_3frame = image_dict[stack][\"y_pred_3frame\"][i,0,:,:]>threshold\n",
    "\n",
    "and_mask = np.logical_and(mask_true, mask_single)\n",
    "and_mask2 = np.logical_and(mask_true, mask_3frame)\n",
    "and_mask3 = np.logical_and(mask_single, mask_single)\n",
    "\n",
    "contours_and = measure.find_contours(and_mask)\n",
    "contours_and2 = measure.find_contours(and_mask2)\n",
    "contours_and3 = measure.find_contours(and_mask3)\n",
    "\n",
    "print(len(contours_true), len(contours_single), len(contours_3frame), len(contours_and), len(contours_and2), len(contours_and3))\n",
    "\n",
    "fig, ax = plt.subplots(figsize=(15, 15))\n",
    "for contour in contours_and:\n",
    "    ax.plot(contour[:, 1], contour[:, 0], linewidth=1, color='blue')\n",
    "for contour in contours_and2:\n",
    "    ax.plot(contour[:, 1], contour[:, 0], linewidth=1, color='red')\n",
    "for contour in contours_and3:\n",
    "    ax.plot(contour[:, 1], contour[:, 0], linewidth=1, color='green')\n",
    "\n",
    "plt.show()\n"
   ]
  },
  {
   "cell_type": "code",
   "execution_count": 55,
   "id": "e0aa3712",
   "metadata": {},
   "outputs": [],
   "source": [
    "count_compare = {}\n",
    "threshold = 0.5 \n",
    "\n",
    "def countmask(mask):\n",
    "    #counts contours in binary 3D-array\n",
    "    out=[]\n",
    "    for frame in range(len(mask)):\n",
    "        out.append(len(measure.find_contours(mask[frame])))\n",
    "    return out\n",
    "    \n",
    "    \n",
    "for stack in image_dict.keys():\n",
    "    count_compare[stack] = {}\n",
    "    mask_true = image_dict[stack]['y_true']>1\n",
    "    mask_single = image_dict[stack][\"y_pred_single\"][:,0,:,:]>threshold\n",
    "    mask_3frame = image_dict[stack][\"y_pred_3frame\"][:,0,:,:]>threshold\n",
    "    \n",
    "    and_single = np.logical_and(mask_true, mask_single)\n",
    "    and_3frame = np.logical_and(mask_true, mask_3frame)\n",
    "    single_and_3frame = np.logical_and(mask_single, mask_single)\n",
    "     \n",
    "    count_compare[stack]['frame'] = list(range(len(mask_true)))\n",
    "    count_compare[stack]['true'] = countmask(mask_true)\n",
    "    count_compare[stack]['single'] = countmask(mask_single)\n",
    "    count_compare[stack]['3frame'] = countmask(mask_3frame)\n",
    "    count_compare[stack]['true_and_single'] = countmask(and_single)\n",
    "    count_compare[stack]['true_and_3frame'] = countmask(and_3frame)\n",
    "    count_compare[stack]['3frame_and_single'] = countmask(single_and_3frame)\n",
    "\n",
    "\n"
   ]
  },
  {
   "cell_type": "code",
   "execution_count": 56,
   "id": "fb3228e1",
   "metadata": {},
   "outputs": [
    {
     "name": "stdout",
     "output_type": "stream",
     "text": [
      "{'BT0403_229.tif': {'frame': [0, 1, 2, 3, 4, 5, 6, 7, 8, 9, 10], 'true': [81, 76, 77, 78, 82, 82, 84, 81, 81, 79, 76], 'single': [96, 102, 102, 114, 119, 110, 114, 106, 110, 113, 97], '3frame': [111, 126, 135, 130, 123, 123, 115, 128, 101, 106, 118], 'true_and_single': [65, 63, 68, 70, 74, 67, 73, 69, 66, 66, 67], 'true_and_3frame': [72, 65, 64, 68, 74, 72, 71, 73, 62, 68, 67], '3frame_and_single': [96, 102, 102, 114, 119, 110, 114, 106, 110, 113, 97]}, 'BT0407_110.tif': {'frame': [0, 1, 2, 3, 4], 'true': [25, 28, 36, 37, 41], 'single': [55, 58, 40, 44, 46], '3frame': [70, 53, 48, 55, 62], 'true_and_single': [20, 19, 27, 31, 36], 'true_and_3frame': [22, 10, 28, 32, 39], '3frame_and_single': [55, 58, 40, 44, 46]}, 'BT0398_210.tif': {'frame': [0, 1, 2, 3, 4, 5, 6, 7, 8, 9, 10], 'true': [163, 166, 163, 168, 165, 167, 155, 151, 148, 145, 137], 'single': [159, 161, 150, 153, 152, 158, 150, 143, 131, 147, 141], '3frame': [178, 184, 178, 183, 179, 178, 177, 191, 176, 168, 165], 'true_and_single': [149, 156, 141, 147, 143, 143, 136, 138, 130, 128, 124], 'true_and_3frame': [149, 158, 157, 161, 156, 149, 148, 143, 138, 139, 129], '3frame_and_single': [159, 161, 150, 153, 152, 158, 150, 143, 131, 147, 141]}, 'BT402_169.tif': {'frame': [0, 1, 2], 'true': [333, 341, 327], 'single': [277, 298, 303], '3frame': [296, 325, 335], 'true_and_single': [302, 311, 310], 'true_and_3frame': [308, 323, 320], '3frame_and_single': [277, 298, 303]}, 'BT403_002.tif': {'frame': [0, 1, 2, 3, 4, 5, 6, 7, 8, 9, 10], 'true': [106, 110, 103, 113, 99, 103, 95, 100, 59, 93, 95], 'single': [99, 100, 107, 100, 92, 105, 97, 98, 84, 117, 116], '3frame': [114, 118, 117, 131, 94, 118, 111, 127, 71, 108, 135], 'true_and_single': [84, 86, 83, 81, 72, 77, 67, 69, 48, 77, 80], 'true_and_3frame': [99, 106, 97, 102, 83, 91, 80, 80, 48, 85, 87], '3frame_and_single': [99, 100, 107, 100, 92, 105, 97, 98, 84, 117, 116]}, 'BT404_199.tif': {'frame': [0, 1, 2], 'true': [156, 155, 155], 'single': [188, 166, 167], '3frame': [201, 186, 183], 'true_and_single': [145, 138, 140], 'true_and_3frame': [150, 143, 138], '3frame_and_single': [188, 166, 167]}}\n"
     ]
    },
    {
     "data": {
      "text/html": [
       "<div>\n",
       "<style scoped>\n",
       "    .dataframe tbody tr th:only-of-type {\n",
       "        vertical-align: middle;\n",
       "    }\n",
       "\n",
       "    .dataframe tbody tr th {\n",
       "        vertical-align: top;\n",
       "    }\n",
       "\n",
       "    .dataframe thead th {\n",
       "        text-align: right;\n",
       "    }\n",
       "</style>\n",
       "<table border=\"1\" class=\"dataframe\">\n",
       "  <thead>\n",
       "    <tr style=\"text-align: right;\">\n",
       "      <th></th>\n",
       "      <th>frame</th>\n",
       "      <th>true</th>\n",
       "      <th>single</th>\n",
       "      <th>3frame</th>\n",
       "      <th>true_and_single</th>\n",
       "      <th>true_and_3frame</th>\n",
       "      <th>3frame_and_single</th>\n",
       "      <th>file</th>\n",
       "    </tr>\n",
       "  </thead>\n",
       "  <tbody>\n",
       "    <tr>\n",
       "      <th>0</th>\n",
       "      <td>0</td>\n",
       "      <td>81</td>\n",
       "      <td>96</td>\n",
       "      <td>111</td>\n",
       "      <td>65</td>\n",
       "      <td>72</td>\n",
       "      <td>96</td>\n",
       "      <td>BT0403_229.tif</td>\n",
       "    </tr>\n",
       "    <tr>\n",
       "      <th>1</th>\n",
       "      <td>1</td>\n",
       "      <td>76</td>\n",
       "      <td>102</td>\n",
       "      <td>126</td>\n",
       "      <td>63</td>\n",
       "      <td>65</td>\n",
       "      <td>102</td>\n",
       "      <td>BT0403_229.tif</td>\n",
       "    </tr>\n",
       "    <tr>\n",
       "      <th>2</th>\n",
       "      <td>2</td>\n",
       "      <td>77</td>\n",
       "      <td>102</td>\n",
       "      <td>135</td>\n",
       "      <td>68</td>\n",
       "      <td>64</td>\n",
       "      <td>102</td>\n",
       "      <td>BT0403_229.tif</td>\n",
       "    </tr>\n",
       "    <tr>\n",
       "      <th>3</th>\n",
       "      <td>3</td>\n",
       "      <td>78</td>\n",
       "      <td>114</td>\n",
       "      <td>130</td>\n",
       "      <td>70</td>\n",
       "      <td>68</td>\n",
       "      <td>114</td>\n",
       "      <td>BT0403_229.tif</td>\n",
       "    </tr>\n",
       "    <tr>\n",
       "      <th>4</th>\n",
       "      <td>4</td>\n",
       "      <td>82</td>\n",
       "      <td>119</td>\n",
       "      <td>123</td>\n",
       "      <td>74</td>\n",
       "      <td>74</td>\n",
       "      <td>119</td>\n",
       "      <td>BT0403_229.tif</td>\n",
       "    </tr>\n",
       "  </tbody>\n",
       "</table>\n",
       "</div>"
      ],
      "text/plain": [
       "   frame  true  single  3frame  true_and_single  true_and_3frame  \\\n",
       "0      0    81      96     111               65               72   \n",
       "1      1    76     102     126               63               65   \n",
       "2      2    77     102     135               68               64   \n",
       "3      3    78     114     130               70               68   \n",
       "4      4    82     119     123               74               74   \n",
       "\n",
       "   3frame_and_single            file  \n",
       "0                 96  BT0403_229.tif  \n",
       "1                102  BT0403_229.tif  \n",
       "2                102  BT0403_229.tif  \n",
       "3                114  BT0403_229.tif  \n",
       "4                119  BT0403_229.tif  "
      ]
     },
     "execution_count": 56,
     "metadata": {},
     "output_type": "execute_result"
    }
   ],
   "source": [
    "count_df = None\n",
    "print(count_compare)\n",
    "for stack in count_compare.keys():\n",
    "    df = pd.DataFrame.from_dict(count_compare[stack])\n",
    "    df['file'] = stack\n",
    "    \n",
    "    \n",
    "    if count_df is None:\n",
    "        count_df = df\n",
    "    \n",
    "    else:\n",
    "        count_df = pd.concat([count_df, df], ignore_index=True)\n",
    "count_df.head()"
   ]
  },
  {
   "cell_type": "code",
   "execution_count": 86,
   "id": "5abebc62",
   "metadata": {},
   "outputs": [
    {
     "data": {
      "image/png": "[encoded data removed]",
      "text/plain": [
       "<Figure size 1440x720 with 1 Axes>"
      ]
     },
     "metadata": {
      "needs_background": "light"
     },
     "output_type": "display_data"
    }
   ],
   "source": [
    "plt.figure(figsize=(20,10))\n",
    "g1 = sns.boxplot(data=count_df, x='file', y='true', color='red')\n",
    "g1 = sns.boxplot(data=count_df, x='file', y='true_and_single', color='blue')\n",
    "g1 = sns.boxplot(data=count_df, x='file', y='true_and_3frame', color='yellow')"
   ]
  },
  {
   "cell_type": "code",
   "execution_count": 87,
   "id": "6c521a14",
   "metadata": {
    "scrolled": true
   },
   "outputs": [],
   "source": [
    "count_df['TP_fraction_single'] = count_df['true_and_single']/count_df['true']\n",
    "count_df['TP_fraction_3frame'] = count_df['true_and_3frame']/count_df['true']\n",
    "count_df['FP_fraction_single'] = (count_df['single']-count_df['true_and_single'])/count_df['single']\n",
    "count_df['FP_fraction_3frame'] = (count_df['3frame']-count_df['true_and_3frame'])/count_df['3frame']\n",
    "count_df.head()\n",
    "count_df.to_csv('single_vs_3frame_count.csv') "
   ]
  },
  {
   "cell_type": "code",
   "execution_count": 83,
   "id": "f46baa28",
   "metadata": {},
   "outputs": [
    {
     "data": {
      "image/png": "[encoded data removed]",
      "text/plain": [
       "<Figure size 1440x720 with 1 Axes>"
      ]
     },
     "metadata": {
      "needs_background": "light"
     },
     "output_type": "display_data"
    }
   ],
   "source": [
    "plt.figure(figsize=(20,10))\n",
    "g1 = sns.boxplot(data=count_df, x='file', y='TP_fraction_single', color='white')\n",
    "g1 = sns.boxplot(data=count_df, x='file', y='TP_fraction_3frame', color='blue')\n",
    "\n",
    "\n",
    "\n"
   ]
  },
  {
   "cell_type": "code",
   "execution_count": 84,
   "id": "c4ec7f16",
   "metadata": {},
   "outputs": [
    {
     "data": {
      "image/png": "[encoded data removed]",
      "text/plain": [
       "<Figure size 1440x720 with 1 Axes>"
      ]
     },
     "metadata": {
      "needs_background": "light"
     },
     "output_type": "display_data"
    }
   ],
   "source": [
    "plt.figure(figsize=(20,10))\n",
    "g2 = sns.boxplot(data=count_df, x='file', y='FP_fraction_single', color='white')\n",
    "g2 = sns.boxplot(data=count_df, x='file', y='FP_fraction_3frame', color='blue')"
   ]
  },
  {
   "cell_type": "code",
   "execution_count": 85,
   "id": "b4637761",
   "metadata": {},
   "outputs": [
    {
     "data": {
      "image/png": "[encoded data removed]",
      "text/plain": [
       "<Figure size 1440x720 with 1 Axes>"
      ]
     },
     "metadata": {
      "needs_background": "light"
     },
     "output_type": "display_data"
    }
   ],
   "source": [
    "plt.figure(figsize=(20,10))\n",
    "g1 = sns.boxplot(data=count_df, y='TP_fraction_single', color='white')\n",
    "g1 = sns.boxplot(data=count_df, y='TP_fraction_3frame', color='blue')\n"
   ]
  },
  {
   "cell_type": "markdown",
   "id": "762c3000",
   "metadata": {},
   "source": [
    "Let's reformat the dataframe for easier plottting"
   ]
  },
  {
   "cell_type": "code",
   "execution_count": 88,
   "id": "1c2554c0",
   "metadata": {},
   "outputs": [
    {
     "data": {
      "text/html": [
       "<div>\n",
       "<style scoped>\n",
       "    .dataframe tbody tr th:only-of-type {\n",
       "        vertical-align: middle;\n",
       "    }\n",
       "\n",
       "    .dataframe tbody tr th {\n",
       "        vertical-align: top;\n",
       "    }\n",
       "\n",
       "    .dataframe thead th {\n",
       "        text-align: right;\n",
       "    }\n",
       "</style>\n",
       "<table border=\"1\" class=\"dataframe\">\n",
       "  <thead>\n",
       "    <tr style=\"text-align: right;\">\n",
       "      <th></th>\n",
       "      <th>frame</th>\n",
       "      <th>true</th>\n",
       "      <th>single</th>\n",
       "      <th>3frame</th>\n",
       "      <th>true_and_single</th>\n",
       "      <th>true_and_3frame</th>\n",
       "      <th>3frame_and_single</th>\n",
       "      <th>file</th>\n",
       "      <th>TP_fraction_single</th>\n",
       "      <th>TP_fraction_3frame</th>\n",
       "      <th>FP_fraction_single</th>\n",
       "      <th>FP_fraction_3frame</th>\n",
       "    </tr>\n",
       "  </thead>\n",
       "  <tbody>\n",
       "    <tr>\n",
       "      <th>0</th>\n",
       "      <td>0</td>\n",
       "      <td>81</td>\n",
       "      <td>96</td>\n",
       "      <td>111</td>\n",
       "      <td>65</td>\n",
       "      <td>72</td>\n",
       "      <td>96</td>\n",
       "      <td>BT0403_229.tif</td>\n",
       "      <td>0.802469</td>\n",
       "      <td>0.888889</td>\n",
       "      <td>0.322917</td>\n",
       "      <td>0.351351</td>\n",
       "    </tr>\n",
       "    <tr>\n",
       "      <th>1</th>\n",
       "      <td>1</td>\n",
       "      <td>76</td>\n",
       "      <td>102</td>\n",
       "      <td>126</td>\n",
       "      <td>63</td>\n",
       "      <td>65</td>\n",
       "      <td>102</td>\n",
       "      <td>BT0403_229.tif</td>\n",
       "      <td>0.828947</td>\n",
       "      <td>0.855263</td>\n",
       "      <td>0.382353</td>\n",
       "      <td>0.484127</td>\n",
       "    </tr>\n",
       "    <tr>\n",
       "      <th>2</th>\n",
       "      <td>2</td>\n",
       "      <td>77</td>\n",
       "      <td>102</td>\n",
       "      <td>135</td>\n",
       "      <td>68</td>\n",
       "      <td>64</td>\n",
       "      <td>102</td>\n",
       "      <td>BT0403_229.tif</td>\n",
       "      <td>0.883117</td>\n",
       "      <td>0.831169</td>\n",
       "      <td>0.333333</td>\n",
       "      <td>0.525926</td>\n",
       "    </tr>\n",
       "    <tr>\n",
       "      <th>3</th>\n",
       "      <td>3</td>\n",
       "      <td>78</td>\n",
       "      <td>114</td>\n",
       "      <td>130</td>\n",
       "      <td>70</td>\n",
       "      <td>68</td>\n",
       "      <td>114</td>\n",
       "      <td>BT0403_229.tif</td>\n",
       "      <td>0.897436</td>\n",
       "      <td>0.871795</td>\n",
       "      <td>0.385965</td>\n",
       "      <td>0.476923</td>\n",
       "    </tr>\n",
       "    <tr>\n",
       "      <th>4</th>\n",
       "      <td>4</td>\n",
       "      <td>82</td>\n",
       "      <td>119</td>\n",
       "      <td>123</td>\n",
       "      <td>74</td>\n",
       "      <td>74</td>\n",
       "      <td>119</td>\n",
       "      <td>BT0403_229.tif</td>\n",
       "      <td>0.902439</td>\n",
       "      <td>0.902439</td>\n",
       "      <td>0.378151</td>\n",
       "      <td>0.398374</td>\n",
       "    </tr>\n",
       "  </tbody>\n",
       "</table>\n",
       "</div>"
      ],
      "text/plain": [
       "   frame  true  single  3frame  true_and_single  true_and_3frame  \\\n",
       "0      0    81      96     111               65               72   \n",
       "1      1    76     102     126               63               65   \n",
       "2      2    77     102     135               68               64   \n",
       "3      3    78     114     130               70               68   \n",
       "4      4    82     119     123               74               74   \n",
       "\n",
       "   3frame_and_single            file  TP_fraction_single  TP_fraction_3frame  \\\n",
       "0                 96  BT0403_229.tif            0.802469            0.888889   \n",
       "1                102  BT0403_229.tif            0.828947            0.855263   \n",
       "2                102  BT0403_229.tif            0.883117            0.831169   \n",
       "3                114  BT0403_229.tif            0.897436            0.871795   \n",
       "4                119  BT0403_229.tif            0.902439            0.902439   \n",
       "\n",
       "   FP_fraction_single  FP_fraction_3frame  \n",
       "0            0.322917            0.351351  \n",
       "1            0.382353            0.484127  \n",
       "2            0.333333            0.525926  \n",
       "3            0.385965            0.476923  \n",
       "4            0.378151            0.398374  "
      ]
     },
     "execution_count": 88,
     "metadata": {},
     "output_type": "execute_result"
    }
   ],
   "source": [
    "count_df.head()"
   ]
  },
  {
   "cell_type": "code",
   "execution_count": 108,
   "id": "c1254cfb",
   "metadata": {},
   "outputs": [
    {
     "data": {
      "text/html": [
       "<div>\n",
       "<style scoped>\n",
       "    .dataframe tbody tr th:only-of-type {\n",
       "        vertical-align: middle;\n",
       "    }\n",
       "\n",
       "    .dataframe tbody tr th {\n",
       "        vertical-align: top;\n",
       "    }\n",
       "\n",
       "    .dataframe thead th {\n",
       "        text-align: right;\n",
       "    }\n",
       "</style>\n",
       "<table border=\"1\" class=\"dataframe\">\n",
       "  <thead>\n",
       "    <tr style=\"text-align: right;\">\n",
       "      <th></th>\n",
       "      <th>file</th>\n",
       "      <th>frame</th>\n",
       "      <th>model</th>\n",
       "      <th>TP</th>\n",
       "      <th>FN</th>\n",
       "      <th>FP</th>\n",
       "      <th>precision</th>\n",
       "      <th>recall</th>\n",
       "    </tr>\n",
       "  </thead>\n",
       "  <tbody>\n",
       "    <tr>\n",
       "      <th>0</th>\n",
       "      <td>BT0403_229.tif</td>\n",
       "      <td>0</td>\n",
       "      <td>single_frame</td>\n",
       "      <td>65</td>\n",
       "      <td>16</td>\n",
       "      <td>31</td>\n",
       "      <td>0.677083</td>\n",
       "      <td>0.802469</td>\n",
       "    </tr>\n",
       "    <tr>\n",
       "      <th>1</th>\n",
       "      <td>BT0403_229.tif</td>\n",
       "      <td>1</td>\n",
       "      <td>single_frame</td>\n",
       "      <td>63</td>\n",
       "      <td>13</td>\n",
       "      <td>39</td>\n",
       "      <td>0.617647</td>\n",
       "      <td>0.828947</td>\n",
       "    </tr>\n",
       "    <tr>\n",
       "      <th>2</th>\n",
       "      <td>BT0403_229.tif</td>\n",
       "      <td>2</td>\n",
       "      <td>single_frame</td>\n",
       "      <td>68</td>\n",
       "      <td>9</td>\n",
       "      <td>34</td>\n",
       "      <td>0.666667</td>\n",
       "      <td>0.883117</td>\n",
       "    </tr>\n",
       "    <tr>\n",
       "      <th>3</th>\n",
       "      <td>BT0403_229.tif</td>\n",
       "      <td>3</td>\n",
       "      <td>single_frame</td>\n",
       "      <td>70</td>\n",
       "      <td>8</td>\n",
       "      <td>44</td>\n",
       "      <td>0.614035</td>\n",
       "      <td>0.897436</td>\n",
       "    </tr>\n",
       "    <tr>\n",
       "      <th>4</th>\n",
       "      <td>BT0403_229.tif</td>\n",
       "      <td>4</td>\n",
       "      <td>single_frame</td>\n",
       "      <td>74</td>\n",
       "      <td>8</td>\n",
       "      <td>45</td>\n",
       "      <td>0.621849</td>\n",
       "      <td>0.902439</td>\n",
       "    </tr>\n",
       "  </tbody>\n",
       "</table>\n",
       "</div>"
      ],
      "text/plain": [
       "             file  frame         model  TP  FN  FP  precision    recall\n",
       "0  BT0403_229.tif      0  single_frame  65  16  31   0.677083  0.802469\n",
       "1  BT0403_229.tif      1  single_frame  63  13  39   0.617647  0.828947\n",
       "2  BT0403_229.tif      2  single_frame  68   9  34   0.666667  0.883117\n",
       "3  BT0403_229.tif      3  single_frame  70   8  44   0.614035  0.897436\n",
       "4  BT0403_229.tif      4  single_frame  74   8  45   0.621849  0.902439"
      ]
     },
     "execution_count": 108,
     "metadata": {},
     "output_type": "execute_result"
    }
   ],
   "source": [
    "single = count_df.filter(items=['file', 'frame'])\n",
    "single['model'] = 'single_frame'\n",
    "single['TP'] = count_df['true_and_single']\n",
    "single['FN'] = count_df['true']-count_df['true_and_single']\n",
    "single['FP'] = count_df['single']-count_df['true_and_single']\n",
    "\n",
    "multi = count_df.filter(items=['file', 'frame'])\n",
    "multi['model'] = '3_frame'\n",
    "multi['TP'] = count_df['true_and_3frame']\n",
    "multi['FN'] = count_df['true']-count_df['true_and_3frame']\n",
    "multi['FP'] = count_df['3frame']-count_df['true_and_3frame']\n",
    "\n",
    "tp_df = pd.concat([single, multi], ignore_index=True)\n",
    "\n",
    "tp_df['precision'] = tp_df['TP']/(tp_df['TP']+tp_df['FP'])\n",
    "tp_df['recall'] = tp_df['TP']/(tp_df['TP']+tp_df['FN'])\n",
    "\n",
    "tp_df.head()\n"
   ]
  },
  {
   "cell_type": "code",
   "execution_count": 118,
   "id": "187bc7b7",
   "metadata": {},
   "outputs": [
    {
     "data": {
      "image/png": "[encoded data removed]",
      "text/plain": [
       "<Figure size 1440x720 with 1 Axes>"
      ]
     },
     "metadata": {
      "needs_background": "light"
     },
     "output_type": "display_data"
    }
   ],
   "source": [
    "plt.figure(figsize=(20,10))\n",
    "g3 = sns.boxplot(data=tp_df, x='file', y='precision', hue='model')"
   ]
  }
 ],
 "metadata": {
  "kernelspec": {
   "display_name": "Python 3 (ipykernel)",
   "language": "python",
   "name": "python3"
  },
  "language_info": {
   "codemirror_mode": {
    "name": "ipython",
    "version": 3
   },
   "file_extension": ".py",
   "mimetype": "text/x-python",
   "name": "python",
   "nbconvert_exporter": "python",
   "pygments_lexer": "ipython3",
   "version": "3.9.7"
  }
 },
 "nbformat": 4,
 "nbformat_minor": 5
}
