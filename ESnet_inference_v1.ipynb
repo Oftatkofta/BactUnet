{
 "cells": [
  {
   "cell_type": "code",
   "execution_count": 1,
   "id": "35b37971",
   "metadata": {},
   "outputs": [
    {
     "name": "stdout",
     "output_type": "stream",
     "text": [
      "You have GPU access\n",
      "Tue Mar 29 15:26:42 2022       \n",
      "+-----------------------------------------------------------------------------+\n",
      "| NVIDIA-SMI 496.49       Driver Version: 496.49       CUDA Version: 11.5     |\n",
      "|-------------------------------+----------------------+----------------------+\n",
      "| GPU  Name            TCC/WDDM | Bus-Id        Disp.A | Volatile Uncorr. ECC |\n",
      "| Fan  Temp  Perf  Pwr:Usage/Cap|         Memory-Usage | GPU-Util  Compute M. |\n",
      "|                               |                      |               MIG M. |\n",
      "|===============================+======================+======================|\n",
      "|   0  NVIDIA GeForce ... WDDM  | 00000000:01:00.0 Off |                  N/A |\n",
      "| N/A   74C    P3    17W /  N/A |    300MiB /  4096MiB |      2%      Default |\n",
      "|                               |                      |                  N/A |\n",
      "+-------------------------------+----------------------+----------------------+\n",
      "                                                                               \n",
      "+-----------------------------------------------------------------------------+\n",
      "| Processes:                                                                  |\n",
      "|  GPU   GI   CI        PID   Type   Process name                  GPU Memory |\n",
      "|        ID   ID                                                   Usage      |\n",
      "|=============================================================================|\n",
      "|    0   N/A  N/A     11328      C   ...nvs\\tensorflow\\python.exe    N/A      |\n",
      "+-----------------------------------------------------------------------------+\n",
      "TensorFlow 2.6.0; Keras 2.6.0\n"
     ]
    },
    {
     "data": {
      "text/plain": [
       "'/device:GPU:0'"
      ]
     },
     "execution_count": 1,
     "metadata": {},
     "output_type": "execute_result"
    }
   ],
   "source": [
    "import tensorflow as tf\n",
    "from tensorflow import keras\n",
    "\n",
    "if tf.test.gpu_device_name()=='':\n",
    "    print('You do not have GPU access.')\n",
    "    !nvidia-smi\n",
    "\n",
    "else:\n",
    "  print('You have GPU access')\n",
    "  !nvidia-smi\n",
    "\n",
    "\n",
    "# print the tensorflow version\n",
    "print('TensorFlow {}; Keras {}'.format(tf.__version__, keras.__version__))\n",
    "tf.test.gpu_device_name()\n"
   ]
  },
  {
   "cell_type": "code",
   "execution_count": 42,
   "id": "5ac04cb0",
   "metadata": {},
   "outputs": [
    {
     "name": "stdout",
     "output_type": "stream",
     "text": [
      "Model uses 1.264 GB of memory at a batch size of 2\n"
     ]
    }
   ],
   "source": [
    "from tensorflow.keras import layers\n",
    "import os\n",
    "import tifffile as tiff\n",
    "import numpy as np\n",
    "from matplotlib import pyplot as plt\n",
    "from keras.models import load_model\n",
    "from preprocessing import get_model_memory_usage\n",
    "\n",
    "#load pretrained model\n",
    "\n",
    "model = load_model(\"models/ESnet_dice_noEmpty_v1.hdf5\", compile=False)\n",
    "\n",
    "batch_size = 2\n",
    "print(\"Model uses {} GB of memory at a batch size of {}\".format(get_model_memory_usage(batch_size, model), batch_size))"
   ]
  },
  {
   "cell_type": "code",
   "execution_count": 43,
   "id": "04714372",
   "metadata": {
    "scrolled": true
   },
   "outputs": [
    {
     "name": "stdout",
     "output_type": "stream",
     "text": [
      "Model: \"ES-Net_V1\"\n",
      "__________________________________________________________________________________________________\n",
      "Layer (type)                    Output Shape         Param #     Connected to                     \n",
      "==================================================================================================\n",
      "input_1 (InputLayer)            [(None, 3, 288, 288) 0                                            \n",
      "__________________________________________________________________________________________________\n",
      "conv2d (Conv2D)                 (None, 64, 288, 288) 1792        input_1[0][0]                    \n",
      "__________________________________________________________________________________________________\n",
      "batch_normalization (BatchNorma (None, 64, 288, 288) 1152        conv2d[0][0]                     \n",
      "__________________________________________________________________________________________________\n",
      "dropout (Dropout)               (None, 64, 288, 288) 0           batch_normalization[0][0]        \n",
      "__________________________________________________________________________________________________\n",
      "conv2d_1 (Conv2D)               (None, 64, 288, 288) 36928       dropout[0][0]                    \n",
      "__________________________________________________________________________________________________\n",
      "batch_normalization_1 (BatchNor (None, 64, 288, 288) 1152        conv2d_1[0][0]                   \n",
      "__________________________________________________________________________________________________\n",
      "dropout_1 (Dropout)             (None, 64, 288, 288) 0           batch_normalization_1[0][0]      \n",
      "__________________________________________________________________________________________________\n",
      "max_pooling2d (MaxPooling2D)    (None, 64, 144, 144) 0           dropout_1[0][0]                  \n",
      "__________________________________________________________________________________________________\n",
      "conv2d_2 (Conv2D)               (None, 128, 144, 144 73856       max_pooling2d[0][0]              \n",
      "__________________________________________________________________________________________________\n",
      "batch_normalization_2 (BatchNor (None, 128, 144, 144 576         conv2d_2[0][0]                   \n",
      "__________________________________________________________________________________________________\n",
      "dropout_2 (Dropout)             (None, 128, 144, 144 0           batch_normalization_2[0][0]      \n",
      "__________________________________________________________________________________________________\n",
      "conv2d_3 (Conv2D)               (None, 128, 144, 144 147584      dropout_2[0][0]                  \n",
      "__________________________________________________________________________________________________\n",
      "batch_normalization_3 (BatchNor (None, 128, 144, 144 576         conv2d_3[0][0]                   \n",
      "__________________________________________________________________________________________________\n",
      "dropout_3 (Dropout)             (None, 128, 144, 144 0           batch_normalization_3[0][0]      \n",
      "__________________________________________________________________________________________________\n",
      "max_pooling2d_1 (MaxPooling2D)  (None, 128, 72, 72)  0           dropout_3[0][0]                  \n",
      "__________________________________________________________________________________________________\n",
      "conv2d_4 (Conv2D)               (None, 256, 72, 72)  295168      max_pooling2d_1[0][0]            \n",
      "__________________________________________________________________________________________________\n",
      "batch_normalization_4 (BatchNor (None, 256, 72, 72)  288         conv2d_4[0][0]                   \n",
      "__________________________________________________________________________________________________\n",
      "dropout_4 (Dropout)             (None, 256, 72, 72)  0           batch_normalization_4[0][0]      \n",
      "__________________________________________________________________________________________________\n",
      "conv2d_5 (Conv2D)               (None, 256, 72, 72)  590080      dropout_4[0][0]                  \n",
      "__________________________________________________________________________________________________\n",
      "batch_normalization_5 (BatchNor (None, 256, 72, 72)  288         conv2d_5[0][0]                   \n",
      "__________________________________________________________________________________________________\n",
      "dropout_5 (Dropout)             (None, 256, 72, 72)  0           batch_normalization_5[0][0]      \n",
      "__________________________________________________________________________________________________\n",
      "max_pooling2d_2 (MaxPooling2D)  (None, 256, 36, 36)  0           dropout_5[0][0]                  \n",
      "__________________________________________________________________________________________________\n",
      "conv2d_6 (Conv2D)               (None, 512, 36, 36)  1180160     max_pooling2d_2[0][0]            \n",
      "__________________________________________________________________________________________________\n",
      "batch_normalization_6 (BatchNor (None, 512, 36, 36)  144         conv2d_6[0][0]                   \n",
      "__________________________________________________________________________________________________\n",
      "dropout_6 (Dropout)             (None, 512, 36, 36)  0           batch_normalization_6[0][0]      \n",
      "__________________________________________________________________________________________________\n",
      "conv2d_7 (Conv2D)               (None, 512, 36, 36)  2359808     dropout_6[0][0]                  \n",
      "__________________________________________________________________________________________________\n",
      "batch_normalization_7 (BatchNor (None, 512, 36, 36)  144         conv2d_7[0][0]                   \n",
      "__________________________________________________________________________________________________\n",
      "dropout_7 (Dropout)             (None, 512, 36, 36)  0           batch_normalization_7[0][0]      \n",
      "__________________________________________________________________________________________________\n",
      "max_pooling2d_3 (MaxPooling2D)  (None, 512, 18, 18)  0           dropout_7[0][0]                  \n",
      "__________________________________________________________________________________________________\n",
      "conv2d_8 (Conv2D)               (None, 1024, 18, 18) 4719616     max_pooling2d_3[0][0]            \n",
      "__________________________________________________________________________________________________\n",
      "batch_normalization_8 (BatchNor (None, 1024, 18, 18) 72          conv2d_8[0][0]                   \n",
      "__________________________________________________________________________________________________\n",
      "dropout_8 (Dropout)             (None, 1024, 18, 18) 0           batch_normalization_8[0][0]      \n",
      "__________________________________________________________________________________________________\n",
      "conv2d_9 (Conv2D)               (None, 1024, 18, 18) 9438208     dropout_8[0][0]                  \n",
      "__________________________________________________________________________________________________\n",
      "batch_normalization_9 (BatchNor (None, 1024, 18, 18) 72          conv2d_9[0][0]                   \n",
      "__________________________________________________________________________________________________\n",
      "dropout_9 (Dropout)             (None, 1024, 18, 18) 0           batch_normalization_9[0][0]      \n",
      "__________________________________________________________________________________________________\n",
      "conv2d_transpose (Conv2DTranspo (None, 512, 36, 36)  2097664     dropout_9[0][0]                  \n",
      "__________________________________________________________________________________________________\n",
      "concatenate (Concatenate)       (None, 1024, 36, 36) 0           conv2d_transpose[0][0]           \n",
      "                                                                 dropout_7[0][0]                  \n",
      "__________________________________________________________________________________________________\n",
      "conv2d_10 (Conv2D)              (None, 512, 36, 36)  4719104     concatenate[0][0]                \n",
      "__________________________________________________________________________________________________\n",
      "batch_normalization_10 (BatchNo (None, 512, 36, 36)  144         conv2d_10[0][0]                  \n",
      "__________________________________________________________________________________________________\n",
      "dropout_10 (Dropout)            (None, 512, 36, 36)  0           batch_normalization_10[0][0]     \n",
      "__________________________________________________________________________________________________\n",
      "conv2d_11 (Conv2D)              (None, 512, 36, 36)  2359808     dropout_10[0][0]                 \n",
      "__________________________________________________________________________________________________\n",
      "batch_normalization_11 (BatchNo (None, 512, 36, 36)  144         conv2d_11[0][0]                  \n",
      "__________________________________________________________________________________________________\n",
      "dropout_11 (Dropout)            (None, 512, 36, 36)  0           batch_normalization_11[0][0]     \n",
      "__________________________________________________________________________________________________\n",
      "conv2d_transpose_1 (Conv2DTrans (None, 256, 72, 72)  524544      dropout_11[0][0]                 \n",
      "__________________________________________________________________________________________________\n",
      "concatenate_1 (Concatenate)     (None, 512, 72, 72)  0           conv2d_transpose_1[0][0]         \n",
      "                                                                 dropout_5[0][0]                  \n",
      "__________________________________________________________________________________________________\n",
      "conv2d_12 (Conv2D)              (None, 256, 72, 72)  1179904     concatenate_1[0][0]              \n",
      "__________________________________________________________________________________________________\n",
      "batch_normalization_12 (BatchNo (None, 256, 72, 72)  288         conv2d_12[0][0]                  \n",
      "__________________________________________________________________________________________________\n",
      "dropout_12 (Dropout)            (None, 256, 72, 72)  0           batch_normalization_12[0][0]     \n",
      "__________________________________________________________________________________________________\n",
      "conv2d_13 (Conv2D)              (None, 256, 72, 72)  590080      dropout_12[0][0]                 \n",
      "__________________________________________________________________________________________________\n",
      "batch_normalization_13 (BatchNo (None, 256, 72, 72)  288         conv2d_13[0][0]                  \n",
      "__________________________________________________________________________________________________\n",
      "dropout_13 (Dropout)            (None, 256, 72, 72)  0           batch_normalization_13[0][0]     \n",
      "__________________________________________________________________________________________________\n",
      "conv2d_transpose_2 (Conv2DTrans (None, 128, 144, 144 131200      dropout_13[0][0]                 \n",
      "__________________________________________________________________________________________________\n",
      "concatenate_2 (Concatenate)     (None, 256, 144, 144 0           conv2d_transpose_2[0][0]         \n",
      "                                                                 dropout_3[0][0]                  \n",
      "__________________________________________________________________________________________________\n",
      "conv2d_14 (Conv2D)              (None, 128, 144, 144 295040      concatenate_2[0][0]              \n",
      "__________________________________________________________________________________________________\n",
      "batch_normalization_14 (BatchNo (None, 128, 144, 144 576         conv2d_14[0][0]                  \n",
      "__________________________________________________________________________________________________\n",
      "dropout_14 (Dropout)            (None, 128, 144, 144 0           batch_normalization_14[0][0]     \n",
      "__________________________________________________________________________________________________\n",
      "conv2d_15 (Conv2D)              (None, 128, 144, 144 147584      dropout_14[0][0]                 \n",
      "__________________________________________________________________________________________________\n",
      "batch_normalization_15 (BatchNo (None, 128, 144, 144 576         conv2d_15[0][0]                  \n",
      "__________________________________________________________________________________________________\n",
      "dropout_15 (Dropout)            (None, 128, 144, 144 0           batch_normalization_15[0][0]     \n",
      "__________________________________________________________________________________________________\n",
      "conv2d_transpose_3 (Conv2DTrans (None, 64, 288, 288) 32832       dropout_15[0][0]                 \n",
      "__________________________________________________________________________________________________\n",
      "concatenate_3 (Concatenate)     (None, 128, 288, 288 0           conv2d_transpose_3[0][0]         \n",
      "                                                                 dropout_1[0][0]                  \n",
      "__________________________________________________________________________________________________\n",
      "conv2d_16 (Conv2D)              (None, 64, 288, 288) 73792       concatenate_3[0][0]              \n",
      "__________________________________________________________________________________________________\n",
      "batch_normalization_16 (BatchNo (None, 64, 288, 288) 1152        conv2d_16[0][0]                  \n",
      "__________________________________________________________________________________________________\n",
      "dropout_16 (Dropout)            (None, 64, 288, 288) 0           batch_normalization_16[0][0]     \n",
      "__________________________________________________________________________________________________\n",
      "conv2d_17 (Conv2D)              (None, 64, 288, 288) 36928       dropout_16[0][0]                 \n",
      "__________________________________________________________________________________________________\n",
      "batch_normalization_17 (BatchNo (None, 64, 288, 288) 1152        conv2d_17[0][0]                  \n",
      "__________________________________________________________________________________________________\n",
      "dropout_17 (Dropout)            (None, 64, 288, 288) 0           batch_normalization_17[0][0]     \n",
      "__________________________________________________________________________________________________\n",
      "conv2d_18 (Conv2D)              (None, 1, 288, 288)  65          dropout_17[0][0]                 \n",
      "==================================================================================================\n",
      "Total params: 31,040,529\n",
      "Trainable params: 31,036,137\n",
      "Non-trainable params: 4,392\n",
      "__________________________________________________________________________________________________\n",
      "conv2d/kernel:0 (3, 3, 3, 64)\n",
      "conv2d/bias:0 (64,)\n",
      "batch_normalization/gamma:0 (288,)\n",
      "batch_normalization/beta:0 (288,)\n",
      "batch_normalization/moving_mean:0 (288,)\n",
      "batch_normalization/moving_variance:0 (288,)\n",
      "conv2d_1/kernel:0 (3, 3, 64, 64)\n",
      "conv2d_1/bias:0 (64,)\n",
      "batch_normalization_1/gamma:0 (288,)\n",
      "batch_normalization_1/beta:0 (288,)\n",
      "batch_normalization_1/moving_mean:0 (288,)\n",
      "batch_normalization_1/moving_variance:0 (288,)\n",
      "conv2d_2/kernel:0 (3, 3, 64, 128)\n",
      "conv2d_2/bias:0 (128,)\n",
      "batch_normalization_2/gamma:0 (144,)\n",
      "batch_normalization_2/beta:0 (144,)\n",
      "batch_normalization_2/moving_mean:0 (144,)\n",
      "batch_normalization_2/moving_variance:0 (144,)\n",
      "conv2d_3/kernel:0 (3, 3, 128, 128)\n",
      "conv2d_3/bias:0 (128,)\n",
      "batch_normalization_3/gamma:0 (144,)\n",
      "batch_normalization_3/beta:0 (144,)\n",
      "batch_normalization_3/moving_mean:0 (144,)\n",
      "batch_normalization_3/moving_variance:0 (144,)\n",
      "conv2d_4/kernel:0 (3, 3, 128, 256)\n",
      "conv2d_4/bias:0 (256,)\n",
      "batch_normalization_4/gamma:0 (72,)\n",
      "batch_normalization_4/beta:0 (72,)\n",
      "batch_normalization_4/moving_mean:0 (72,)\n",
      "batch_normalization_4/moving_variance:0 (72,)\n",
      "conv2d_5/kernel:0 (3, 3, 256, 256)\n",
      "conv2d_5/bias:0 (256,)\n",
      "batch_normalization_5/gamma:0 (72,)\n",
      "batch_normalization_5/beta:0 (72,)\n",
      "batch_normalization_5/moving_mean:0 (72,)\n",
      "batch_normalization_5/moving_variance:0 (72,)\n",
      "conv2d_6/kernel:0 (3, 3, 256, 512)\n",
      "conv2d_6/bias:0 (512,)\n",
      "batch_normalization_6/gamma:0 (36,)\n",
      "batch_normalization_6/beta:0 (36,)\n",
      "batch_normalization_6/moving_mean:0 (36,)\n",
      "batch_normalization_6/moving_variance:0 (36,)\n",
      "conv2d_7/kernel:0 (3, 3, 512, 512)\n",
      "conv2d_7/bias:0 (512,)\n",
      "batch_normalization_7/gamma:0 (36,)\n",
      "batch_normalization_7/beta:0 (36,)\n",
      "batch_normalization_7/moving_mean:0 (36,)\n",
      "batch_normalization_7/moving_variance:0 (36,)\n",
      "conv2d_8/kernel:0 (3, 3, 512, 1024)\n",
      "conv2d_8/bias:0 (1024,)\n",
      "batch_normalization_8/gamma:0 (18,)\n",
      "batch_normalization_8/beta:0 (18,)\n",
      "batch_normalization_8/moving_mean:0 (18,)\n",
      "batch_normalization_8/moving_variance:0 (18,)\n",
      "conv2d_9/kernel:0 (3, 3, 1024, 1024)\n",
      "conv2d_9/bias:0 (1024,)\n",
      "batch_normalization_9/gamma:0 (18,)\n",
      "batch_normalization_9/beta:0 (18,)\n",
      "batch_normalization_9/moving_mean:0 (18,)\n",
      "batch_normalization_9/moving_variance:0 (18,)\n",
      "conv2d_transpose/kernel:0 (2, 2, 512, 1024)\n",
      "conv2d_transpose/bias:0 (512,)\n",
      "conv2d_10/kernel:0 (3, 3, 1024, 512)\n",
      "conv2d_10/bias:0 (512,)\n",
      "batch_normalization_10/gamma:0 (36,)\n",
      "batch_normalization_10/beta:0 (36,)\n",
      "batch_normalization_10/moving_mean:0 (36,)\n",
      "batch_normalization_10/moving_variance:0 (36,)\n",
      "conv2d_11/kernel:0 (3, 3, 512, 512)\n",
      "conv2d_11/bias:0 (512,)\n",
      "batch_normalization_11/gamma:0 (36,)\n",
      "batch_normalization_11/beta:0 (36,)\n",
      "batch_normalization_11/moving_mean:0 (36,)\n",
      "batch_normalization_11/moving_variance:0 (36,)\n",
      "conv2d_transpose_1/kernel:0 (2, 2, 256, 512)\n",
      "conv2d_transpose_1/bias:0 (256,)\n",
      "conv2d_12/kernel:0 (3, 3, 512, 256)\n",
      "conv2d_12/bias:0 (256,)\n",
      "batch_normalization_12/gamma:0 (72,)\n",
      "batch_normalization_12/beta:0 (72,)\n",
      "batch_normalization_12/moving_mean:0 (72,)\n",
      "batch_normalization_12/moving_variance:0 (72,)\n",
      "conv2d_13/kernel:0 (3, 3, 256, 256)\n",
      "conv2d_13/bias:0 (256,)\n",
      "batch_normalization_13/gamma:0 (72,)\n",
      "batch_normalization_13/beta:0 (72,)\n",
      "batch_normalization_13/moving_mean:0 (72,)\n",
      "batch_normalization_13/moving_variance:0 (72,)\n",
      "conv2d_transpose_2/kernel:0 (2, 2, 128, 256)\n",
      "conv2d_transpose_2/bias:0 (128,)\n",
      "conv2d_14/kernel:0 (3, 3, 256, 128)\n",
      "conv2d_14/bias:0 (128,)\n",
      "batch_normalization_14/gamma:0 (144,)\n",
      "batch_normalization_14/beta:0 (144,)\n",
      "batch_normalization_14/moving_mean:0 (144,)\n",
      "batch_normalization_14/moving_variance:0 (144,)\n",
      "conv2d_15/kernel:0 (3, 3, 128, 128)\n",
      "conv2d_15/bias:0 (128,)\n",
      "batch_normalization_15/gamma:0 (144,)\n",
      "batch_normalization_15/beta:0 (144,)\n",
      "batch_normalization_15/moving_mean:0 (144,)\n",
      "batch_normalization_15/moving_variance:0 (144,)\n",
      "conv2d_transpose_3/kernel:0 (2, 2, 64, 128)\n",
      "conv2d_transpose_3/bias:0 (64,)\n",
      "conv2d_16/kernel:0 (3, 3, 128, 64)\n",
      "conv2d_16/bias:0 (64,)\n",
      "batch_normalization_16/gamma:0 (288,)\n",
      "batch_normalization_16/beta:0 (288,)\n",
      "batch_normalization_16/moving_mean:0 (288,)\n",
      "batch_normalization_16/moving_variance:0 (288,)\n",
      "conv2d_17/kernel:0 (3, 3, 64, 64)\n",
      "conv2d_17/bias:0 (64,)\n",
      "batch_normalization_17/gamma:0 (288,)\n",
      "batch_normalization_17/beta:0 (288,)\n",
      "batch_normalization_17/moving_mean:0 (288,)\n",
      "batch_normalization_17/moving_variance:0 (288,)\n",
      "conv2d_18/kernel:0 (1, 1, 64, 1)\n",
      "conv2d_18/bias:0 (1,)\n"
     ]
    }
   ],
   "source": [
    "model.summary()\n",
    "for l in model.weights:\n",
    "    print(l.name, l.shape)"
   ]
  },
  {
   "cell_type": "code",
   "execution_count": 44,
   "id": "7566fae1",
   "metadata": {
    "scrolled": true
   },
   "outputs": [
    {
     "name": "stdout",
     "output_type": "stream",
     "text": [
      "BT0398_210.tif (13, 2304, 2304) (11, 2304, 2304)\n",
      "BT0398_210.tif (704, 3, 288, 288) (704, 1, 288, 288)\n",
      "BT402_168.tif (5, 2304, 2304) (3, 2304, 2304)\n",
      "BT402_168.tif (192, 3, 288, 288) (192, 1, 288, 288)\n",
      "BT403_000.tif (13, 2304, 2304) (11, 2304, 2304)\n",
      "BT403_000.tif (704, 3, 288, 288) (704, 1, 288, 288)\n",
      "BT403_228.tif (13, 2304, 2304) (11, 2304, 2304)\n",
      "BT403_228.tif (704, 3, 288, 288) (704, 1, 288, 288)\n",
      "BT404_199.tif (3, 2304, 2304) (2304, 2304)\n",
      "BT404_199.tif (64, 3, 288, 288) (64, 1, 288, 288)\n",
      "dict_keys(['BT0398_210.tif', 'BT402_168.tif', 'BT403_000.tif', 'BT403_228.tif', 'BT404_199.tif'])\n"
     ]
    }
   ],
   "source": [
    "from preprocessing import patch_image, patch_stack, normalizePercentile, normalizeMinMax\n",
    "from patchify import patchify\n",
    "\n",
    "source_path = r\"Bactnet/Training data/stacks/\"\n",
    "SIZE = 288\n",
    "\n",
    "\n",
    "\n",
    "\n",
    "def prepare_data(source_path, PATCH_SIZE):\n",
    "    pred_dict = {}\n",
    "    stacks = os.listdir(os.path.join(source_path, \"validation_source\"))\n",
    "    image_dataset = None\n",
    "    mask_dataset = None\n",
    "    for stack in stacks:\n",
    "        if (stack.split(\".\")[-1]==\"tif\"):\n",
    "            pred_dict[stack]={}\n",
    "            img = tiff.imread(os.path.join(source_path, \"validation_source\",stack))\n",
    "            pred_dict[stack][\"image\"]=img\n",
    "            mask = tiff.imread(os.path.join(source_path, \"validation_target\", stack))\n",
    "            pred_dict[stack][\"y_true\"]=mask\n",
    "            print(stack, img.shape, mask.shape)\n",
    "            \n",
    "            img_patch = patch_stack(img, PATCH_SIZE)\n",
    "            if len(mask.shape)==2:\n",
    "                mask_patch = patch_image(mask, PATCH_SIZE)\n",
    "            else:    \n",
    "                mask_patch = patch_stack(mask, SIZE=PATCH_SIZE, DEPTH=1)\n",
    "            \n",
    "            print(stack, img_patch.shape, mask_patch.shape)\n",
    "            mask_patch = normalizeMinMax(mask_patch)\n",
    "            img_patch = normalizePercentile(img_patch, 0.1, 99.9, clip=True)\n",
    "            pred_dict[stack][\"image_patch\"] = img_patch\n",
    "            pred_dict[stack][\"mask_patch\"] = mask_patch\n",
    "\n",
    "\n",
    "            #print(image_dataset.shape, mask_dataset.shape)\n",
    "\n",
    "    return pred_dict\n",
    "\n",
    "#pred_dict[file]=[image_stack, mask, patch, y_true, y_pred]\n",
    "image_dict = prepare_data(source_path, SIZE)\n",
    "print(image_dict.keys())\n",
    "\n"
   ]
  },
  {
   "cell_type": "code",
   "execution_count": 45,
   "id": "bed33048",
   "metadata": {},
   "outputs": [
    {
     "name": "stdout",
     "output_type": "stream",
     "text": [
      "BT0398_210.tif (704, 1, 288, 288)\n",
      "BT402_168.tif (192, 1, 288, 288)\n",
      "BT403_000.tif (704, 1, 288, 288)\n",
      "BT403_228.tif (704, 1, 288, 288)\n",
      "BT404_199.tif (64, 1, 288, 288)\n"
     ]
    }
   ],
   "source": [
    "keras.backend.clear_session()\n",
    "stride = 2\n",
    "\n",
    "# #IOU\n",
    "for stack in image_dict.keys():\n",
    "    y_pred = None\n",
    "    stackdict = image_dict[stack]\n",
    "    \n",
    "    for i in range(0, len(stackdict[\"image_patch\"]), stride):\n",
    "        pred = model.predict(stackdict[\"image_patch\"][i:i+stride])\n",
    "        if y_pred is not None:\n",
    "            y_pred = np.concatenate((y_pred, pred))\n",
    "\n",
    "        if y_pred is None:\n",
    "            y_pred = pred\n",
    "    \n",
    "    image_dict[stack][\"y_pred\"] = y_pred\n",
    "    print(stack, y_pred.shape)\n",
    "    "
   ]
  },
  {
   "cell_type": "code",
   "execution_count": 46,
   "id": "e6c8ddc7",
   "metadata": {
    "scrolled": true
   },
   "outputs": [],
   "source": [
    "from keras_unet_collection import losses\n",
    "from preprocessing import unpatch_stack\n",
    "from preprocessing import pad_stack, crop_stack, predict_stack\n",
    "\n",
    "\n",
    "def crop_stack(arr, SIZE):\n",
    "    \"\"\"\n",
    "    Undoes the padding from pad_stack, crops out the center, removing a 1/2 SIZE broder from around the stack\n",
    "    \"\"\"\n",
    "    pad_SIZE = int(SIZE / 2)\n",
    "\n",
    "    if len(arr.shape) == 3:\n",
    "        t, y, x = arr.shape\n",
    "        stopY = y - pad_SIZE\n",
    "        stopX = x - pad_SIZE\n",
    "        return arr[:, pad_SIZE:stopY, pad_SIZE:stopX]\n",
    "\n",
    "    if len(arr.shape) == 4:\n",
    "        t, c, y, x = arr.shape\n",
    "        stopY = y - pad_SIZE\n",
    "        stopX = x - pad_SIZE\n",
    "        return arr[:, :, pad_SIZE:stopY, pad_SIZE:stopX]"
   ]
  },
  {
   "cell_type": "code",
   "execution_count": 12,
   "id": "cc652211",
   "metadata": {},
   "outputs": [],
   "source": [
    "\n",
    "\n"
   ]
  },
  {
   "cell_type": "code",
   "execution_count": 8,
   "id": "997b4301",
   "metadata": {},
   "outputs": [
    {
     "data": {
      "image/png": "[encoded data removed]",
      "text/plain": [
       "<Figure size 432x288 with 1 Axes>"
      ]
     },
     "metadata": {
      "needs_background": "light"
     },
     "output_type": "display_data"
    }
   ],
   "source": [
    "\n"
   ]
  },
  {
   "cell_type": "code",
   "execution_count": 21,
   "id": "ebd59a0d",
   "metadata": {},
   "outputs": [
    {
     "name": "stdout",
     "output_type": "stream",
     "text": [
      "BT0398_210.tif (13, 2592, 2592) (11, 1, 2304, 2304) (11, 1, 2304, 2304)\n",
      "BT402_168.tif (5, 2592, 2592) (3, 1, 2304, 2304) (14, 1, 2304, 2304)\n",
      "BT403_000.tif (13, 2592, 2592) (11, 1, 2304, 2304) (25, 1, 2304, 2304)\n",
      "BT403_228.tif (13, 2592, 2592) (11, 1, 2304, 2304) (36, 1, 2304, 2304)\n",
      "BT404_199.tif (3, 2592, 2592) (1, 1, 2304, 2304) (37, 1, 2304, 2304)\n"
     ]
    }
   ],
   "source": [
    "\n",
    "\n"
   ]
  },
  {
   "cell_type": "code",
   "execution_count": 22,
   "id": "0cce9eae",
   "metadata": {},
   "outputs": [
    {
     "name": "stdout",
     "output_type": "stream",
     "text": [
      "(37, 1, 2304, 2304) (37, 1, 2304, 2304) (37, 1, 2304, 2304)\n"
     ]
    }
   ],
   "source": [
    "\n"
   ]
  },
  {
   "cell_type": "code",
   "execution_count": 45,
   "id": "236917c1",
   "metadata": {},
   "outputs": [],
   "source": [
    "#length of each dataset\n",
    "l_BT0398_210 = 11\n",
    "l_BT402_168 = 3\n",
    "l_BT403_000 = 11\n",
    "l_BT403_228 = 11\n",
    "l_BT404_199 = 1"
   ]
  },
  {
   "cell_type": "code",
   "execution_count": 47,
   "id": "e0aa3712",
   "metadata": {},
   "outputs": [
    {
     "name": "stdout",
     "output_type": "stream",
     "text": [
      "BT0398_210.tif (11, 3, 2304, 2304)\n",
      "BT402_168.tif (3, 3, 2304, 2304)\n",
      "BT403_000.tif (11, 3, 2304, 2304)\n",
      "BT403_228.tif (11, 3, 2304, 2304)\n",
      "BT404_199.tif (1, 3, 2304, 2304)\n",
      "(37, 3, 2304, 2304)\n"
     ]
    }
   ],
   "source": [
    "outstack = None\n",
    "\n",
    "for stack in image_dict.keys():\n",
    "    #print(stack, image_dict[stack][\"y_pred\"].shape)\n",
    "    image_dict[stack][\"y_pred_stitch\"] = unpatch_stack(image_dict[stack][\"y_pred\"], 8, 8, 1)[:,-1,:,:]\n",
    "    #print(stack, image_dict[stack][\"image\"][1:-1].shape, image_dict[stack][\"y_true\"].shape, image_dict[stack][\"y_pred_stitch\"].shape)\n",
    "    \n",
    "    if len(image_dict[stack][\"y_true\"].shape)==2:\n",
    "        image_dict[stack][\"y_true\"] = image_dict[stack][\"y_true\"].reshape((1, 2304, 2304))\n",
    "    \n",
    "    saveme = np.stack((image_dict[stack][\"image\"][1:-1], image_dict[stack][\"y_true\"], image_dict[stack][\"y_pred_stitch\"]), axis=1)\n",
    "    #saveme = saveme * 65535\n",
    "    saveme = saveme.astype('uint16')\n",
    "    print(stack, saveme.shape)\n",
    "    if outstack is None:\n",
    "        outstack = saveme\n",
    "    else:\n",
    "        outstack = np.concatenate((outstack, saveme), axis=0)\n",
    "    \n",
    "print(outstack.shape)    \n",
    "    "
   ]
  },
  {
   "cell_type": "code",
   "execution_count": 25,
   "id": "fb3228e1",
   "metadata": {},
   "outputs": [
    {
     "name": "stdout",
     "output_type": "stream",
     "text": [
      "(37, 1, 2304, 2304) (37, 1, 2304, 2304) (37, 1, 2304, 2304)\n",
      "(37, 4, 2304, 2304)\n"
     ]
    }
   ],
   "source": [
    "print(image_dataset.shape, y_pre.shape, y_tru.shape)\n",
    "saveme = np.concatenate((image_dataset, y_tru, y_pre, ypred_2), axis=1)\n",
    "saveme = saveme * 65535\n",
    "saveme = saveme.astype('uint16')\n",
    "print(saveme.shape)"
   ]
  },
  {
   "cell_type": "code",
   "execution_count": 48,
   "id": "5abebc62",
   "metadata": {},
   "outputs": [],
   "source": [
    "results_folder = r\"_results\"\n",
    "tiff.imwrite(os.path.join(results_folder, \"ES_all_stacks_v1.tif\"), outstack, imagej=True, resolution=(1./2.6755, 1./2.6755),\n",
    "                      metadata={'unit': 'um', 'finterval': 15,\n",
    "                                'axes': 'TCYX'})"
   ]
  },
  {
   "cell_type": "code",
   "execution_count": 49,
   "id": "6c521a14",
   "metadata": {
    "scrolled": true
   },
   "outputs": [
    {
     "name": "stdout",
     "output_type": "stream",
     "text": [
      "['210218_murine-ML-hydrogel_60k-cells_A_2_inf_1_MMStack_Default.ome.tif']\n",
      "(100, 2304, 2304) (6272, 3, 288, 288)\n"
     ]
    }
   ],
   "source": [
    "#Viktors data\n",
    "source_path = r\"Bactnet/viktor\"\n",
    "stacks = os.listdir(os.path.join(source_path))\n",
    "print(stacks)\n",
    "vikt = None\n",
    "\n",
    "def predict_stack(arr, batch_size, model):\n",
    "    \"\"\"\n",
    "    Performs prediction on all images in arr using model in increments of batch_size\n",
    "    Assumes patches of a ahpe where N is 0th axis.\n",
    "    \"\"\"\n",
    "    keras.backend.clear_session()\n",
    "    y_pred = None\n",
    "    for i in range(0, len(arr), batch_size):\n",
    "        subset = arr[i:i + batch_size]\n",
    "        \n",
    "        pred = model.predict(subset)\n",
    "        if y_pred is not None:\n",
    "            y_pred = np.concatenate((y_pred, pred))\n",
    "\n",
    "        else:\n",
    "            y_pred = pred\n",
    "\n",
    "    return y_pred\n",
    "\n",
    "for i, image_name in enumerate(stacks):  # Remember enumerate method adds a counter and returns the enumerate object\n",
    "    if (image_name.split('.')[-1] == 'tif'):\n",
    "        image = tiff.imread(os.path.join(source_path, image_name))\n",
    "        image = image[0:100]\n",
    "        image = normalizePercentile(image, 0.1, 99.9, clip=True)\n",
    "        patch = patch_stack(image, SIZE)\n",
    "        print(image.shape, patch.shape)\n",
    "        pred = predict_stack(patch, 2, model)\n",
    "        pred = unpatch_stack(pred, 8, 8, 1)\n",
    "        \n",
    "        if vikt is None:\n",
    "            vikt = pred \n",
    "        else:\n",
    "            vikt = np.concatenate((vikt, pred))\n",
    "        \n",
    "\n"
   ]
  },
  {
   "cell_type": "code",
   "execution_count": 62,
   "id": "f46baa28",
   "metadata": {},
   "outputs": [
    {
     "name": "stdout",
     "output_type": "stream",
     "text": [
      "(98, 1, 2304, 2304) (98, 1, 2304, 2304)\n",
      "(98, 2, 2304, 2304)\n"
     ]
    }
   ],
   "source": [
    "saveme = vikt * 65535\n",
    "saveme = saveme.astype('uint16')\n",
    "img = np.expand_dims(image[0:-2], axis = 1)\n",
    "img = img * 65535\n",
    "img = img.astype('uint16')\n",
    "print(saveme.shape, img.shape)\n",
    "saveme = np.concatenate((img,saveme), axis = 1)\n",
    "print(saveme.shape)\n",
    "tiff.imwrite(os.path.join(source_path, \"pred.tif\"), saveme, imagej=True, resolution=(1./0.109, 1./0.109),\n",
    "                      metadata={'unit': 'um', 'finterval': 15,\n",
    "                                'axes': 'TCYX'})\n",
    "\n"
   ]
  },
  {
   "cell_type": "code",
   "execution_count": null,
   "id": "c4ec7f16",
   "metadata": {},
   "outputs": [],
   "source": []
  },
  {
   "cell_type": "code",
   "execution_count": 15,
   "id": "b4637761",
   "metadata": {},
   "outputs": [
    {
     "name": "stdout",
     "output_type": "stream",
     "text": [
      "BT0398_210.tif (11, 2304, 2304) (576, 3, 288, 288) (576, 1, 288, 288)\n",
      "(576, 2, 288, 288)\n",
      "BT403_013.tif (12, 2304, 2304) (640, 3, 288, 288) (640, 1, 288, 288)\n",
      "(640, 2, 288, 288)\n",
      "BT403_216.tif (12, 2304, 2304) (640, 3, 288, 288) (640, 1, 288, 288)\n",
      "(640, 2, 288, 288)\n",
      "BT404_001.tif (12, 2304, 2304) (640, 3, 288, 288) (640, 1, 288, 288)\n",
      "(640, 2, 288, 288)\n"
     ]
    }
   ],
   "source": [
    "\n",
    "\n",
    "#load unseen data\n",
    "\n",
    "validation_image_directory = r\"C:\\Users\\analyst\\Documents\\Python Scripts\\BactUnet\\Bactnet\\Training data\\stacks\\predict\"\n",
    "result_folder = r\"C:\\Users\\analyst\\Documents\\Python Scripts\\BactUnet\\_results\"\n",
    "\n",
    "val_image_dataset = []\n",
    "val_mask_dataset = []\n",
    "pred_mask_dataset = []\n",
    "\n",
    "images = os.listdir(validation_image_directory)\n",
    "\n",
    "for i, image_name in enumerate(images):    #Remember enumerate method adds a counter and returns the enumerate object\n",
    "    if (image_name.split('.')[1] == 'tif'):\n",
    "        \n",
    "        image = tiff.imread(os.path.join(validation_image_directory, image_name))\n",
    "        original_shape = image.shape\n",
    "        patch = patch_stack(image, SIZE)\n",
    "        \n",
    "        patch = normalizePercentile(patch, 0.1, 99.9, clip=True)\n",
    "        pred_mask_patch = model.predict(patch)\n",
    "        print(image_name, original_shape, patch.shape, pred_mask_patch.shape)\n",
    "        #pred_mask_patch = pred_mask_patch[:, 0, :,:]\n",
    "        image = np.expand_dims(patch[:, 1, :,:], axis=1)\n",
    "        patch = np.concatenate((image, pred_mask_patch), axis=1)\n",
    "        unpatched = unpatcher(patch, 8, 8, 2)\n",
    "        print(patch.shape)\n",
    "        tiff.imwrite(os.path.join(result_folder, image_name), unpatched, imagej=True, resolution=(1./2.6755, 1./2.6755),\n",
    "                      metadata={'unit': 'um', 'finterval': 15,\n",
    "                                'axes': 'TCYX'})\n",
    "        \n",
    "        #pred_mask = unpatch_stack(pred_mask_patch, original_shape)\n",
    "        #tiff.imsave(os.path.join(result_folder, image_name), pred_mask_patch)\n",
    "        #val_image_dataset.append(image)\n",
    "        #pred_mask_dataset.append(pred_mask)"
   ]
  },
  {
   "cell_type": "code",
   "execution_count": 34,
   "id": "e7a69bfd",
   "metadata": {},
   "outputs": [],
   "source": [
    "for i in range(len(pred_mask_dataset)):\n",
    "    img = val_image_dataset[i][3]\n",
    "    msk = pred_mask_dataset[i][3]\n",
    "    plt.figure(figsize=(16, 8))\n",
    "    plt.subplot(121)\n",
    "    plt.title('Testing Image')\n",
    "    plt.imshow(img)\n",
    "    plt.subplot(122)\n",
    "    plt.title('Prediction on test image')\n",
    "    plt.imshow(msk)\n",
    "    plt.show()"
   ]
  },
  {
   "cell_type": "code",
   "execution_count": 51,
   "id": "1c2554c0",
   "metadata": {},
   "outputs": [
    {
     "name": "stdout",
     "output_type": "stream",
     "text": [
      "1 conv2d (3, 3, 3, 64)\n",
      "4 conv2d_1 (3, 3, 64, 64)\n",
      "8 conv2d_2 (3, 3, 64, 128)\n",
      "11 conv2d_3 (3, 3, 128, 128)\n",
      "15 conv2d_4 (3, 3, 128, 256)\n",
      "18 conv2d_5 (3, 3, 256, 256)\n",
      "22 conv2d_6 (3, 3, 256, 512)\n",
      "25 conv2d_7 (3, 3, 512, 512)\n",
      "29 conv2d_8 (3, 3, 512, 1024)\n",
      "32 conv2d_9 (3, 3, 1024, 1024)\n",
      "35 conv2d_transpose (2, 2, 512, 1024)\n",
      "37 conv2d_10 (3, 3, 1024, 512)\n",
      "40 conv2d_11 (3, 3, 512, 512)\n",
      "43 conv2d_transpose_1 (2, 2, 256, 512)\n",
      "45 conv2d_12 (3, 3, 512, 256)\n",
      "48 conv2d_13 (3, 3, 256, 256)\n",
      "51 conv2d_transpose_2 (2, 2, 128, 256)\n",
      "53 conv2d_14 (3, 3, 256, 128)\n",
      "56 conv2d_15 (3, 3, 128, 128)\n",
      "59 conv2d_transpose_3 (2, 2, 64, 128)\n",
      "61 conv2d_16 (3, 3, 128, 64)\n",
      "64 conv2d_17 (3, 3, 64, 64)\n",
      "67 conv2d_18 (1, 1, 64, 1)\n"
     ]
    },
    {
     "ename": "IndexError",
     "evalue": "index 3 is out of bounds for axis 2 with size 3",
     "output_type": "error",
     "traceback": [
      "\u001b[1;31m---------------------------------------------------------------------------\u001b[0m",
      "\u001b[1;31mIndexError\u001b[0m                                Traceback (most recent call last)",
      "\u001b[1;32m~\\AppData\\Local\\Temp/ipykernel_11188/590165685.py\u001b[0m in \u001b[0;36m<module>\u001b[1;34m\u001b[0m\n\u001b[0;32m     11\u001b[0m \u001b[0mn_filters\u001b[0m \u001b[1;33m=\u001b[0m \u001b[0mcolumns\u001b[0m\u001b[1;33m*\u001b[0m\u001b[0mrows\u001b[0m\u001b[1;33m\u001b[0m\u001b[1;33m\u001b[0m\u001b[0m\n\u001b[0;32m     12\u001b[0m \u001b[1;32mfor\u001b[0m \u001b[0mi\u001b[0m \u001b[1;32min\u001b[0m \u001b[0mrange\u001b[0m\u001b[1;33m(\u001b[0m\u001b[1;36m1\u001b[0m\u001b[1;33m,\u001b[0m \u001b[0mn_filters\u001b[0m \u001b[1;33m+\u001b[0m\u001b[1;36m1\u001b[0m\u001b[1;33m)\u001b[0m\u001b[1;33m:\u001b[0m\u001b[1;33m\u001b[0m\u001b[1;33m\u001b[0m\u001b[0m\n\u001b[1;32m---> 13\u001b[1;33m     \u001b[0mf\u001b[0m \u001b[1;33m=\u001b[0m \u001b[0mweights\u001b[0m\u001b[1;33m[\u001b[0m\u001b[1;33m:\u001b[0m\u001b[1;33m,\u001b[0m \u001b[1;33m:\u001b[0m\u001b[1;33m,\u001b[0m \u001b[1;33m(\u001b[0m\u001b[0mi\u001b[0m\u001b[1;33m-\u001b[0m\u001b[1;36m1\u001b[0m\u001b[1;33m)\u001b[0m\u001b[1;33m,\u001b[0m \u001b[1;36m0\u001b[0m\u001b[1;33m]\u001b[0m\u001b[1;33m\u001b[0m\u001b[1;33m\u001b[0m\u001b[0m\n\u001b[0m\u001b[0;32m     14\u001b[0m     \u001b[0mfig1\u001b[0m \u001b[1;33m=\u001b[0m\u001b[0mplt\u001b[0m\u001b[1;33m.\u001b[0m\u001b[0msubplot\u001b[0m\u001b[1;33m(\u001b[0m\u001b[0mrows\u001b[0m\u001b[1;33m,\u001b[0m \u001b[0mcolumns\u001b[0m\u001b[1;33m,\u001b[0m \u001b[0mi\u001b[0m\u001b[1;33m)\u001b[0m\u001b[1;33m\u001b[0m\u001b[1;33m\u001b[0m\u001b[0m\n\u001b[0;32m     15\u001b[0m     \u001b[0mfig1\u001b[0m\u001b[1;33m.\u001b[0m\u001b[0mset_xticks\u001b[0m\u001b[1;33m(\u001b[0m\u001b[1;33m[\u001b[0m\u001b[1;33m]\u001b[0m\u001b[1;33m)\u001b[0m  \u001b[1;31m#Turn off axis\u001b[0m\u001b[1;33m\u001b[0m\u001b[1;33m\u001b[0m\u001b[0m\n",
      "\u001b[1;31mIndexError\u001b[0m: index 3 is out of bounds for axis 2 with size 3"
     ]
    },
    {
     "data": {
      "image/png": "[encoded data removed]",
      "text/plain": [
       "<Figure size 864x864 with 3 Axes>"
      ]
     },
     "metadata": {},
     "output_type": "display_data"
    }
   ],
   "source": [
    "all_weights = []\n",
    "\n",
    "for i, layer in enumerate(model.layers):\n",
    "  if \"onv\" in layer.name:\n",
    "    all_weights.append\n",
    "    print(i, layer.name, model.layers[i].get_weights()[0].shape)\n",
    "\n",
    "weights, biases =  model.layers[1].get_weights()\n",
    "fig1=plt.figure(figsize=(12, 12))\n",
    "\n",
    "\n",
    "columns = 8 \n",
    "rows = 8 \n",
    "n_filters = columns*rows\n",
    "for i in range(1, n_filters +1):\n",
    "    f = weights[:, :, (i-1), 0]\n",
    "    fig1 =plt.subplot(rows, columns, i)\n",
    "    fig1.set_xticks([])  #Turn off axis\n",
    "    fig1.set_yticks([])\n",
    "\n",
    "    #plt.imshow(f[i%3, :, :], cmap='gray')\n",
    "    plt.imshow(f[:, :], cmap='gray')\n",
    "    #plt.imshow(f[2, :, :], cmap='gray') #Show only the filters from 0th channel (R)\n",
    "    #ix += 1\n",
    "plt.show() "
   ]
  }
 ],
 "metadata": {
  "kernelspec": {
   "display_name": "Python 3 (ipykernel)",
   "language": "python",
   "name": "python3"
  },
  "language_info": {
   "codemirror_mode": {
    "name": "ipython",
    "version": 3
   },
   "file_extension": ".py",
   "mimetype": "text/x-python",
   "name": "python",
   "nbconvert_exporter": "python",
   "pygments_lexer": "ipython3",
   "version": "3.9.7"
  }
 },
 "nbformat": 4,
 "nbformat_minor": 5
}
